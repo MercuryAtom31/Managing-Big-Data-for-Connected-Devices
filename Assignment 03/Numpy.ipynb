{
 "cells": [
  {
   "cell_type": "markdown",
   "id": "75470e9948a18457",
   "metadata": {
    "collapsed": false,
    "jupyter": {
     "outputs_hidden": false
    }
   },
   "source": [
    "## Numpy"
   ]
  },
  {
   "cell_type": "markdown",
   "id": "8b77418ee48ad0e9",
   "metadata": {
    "collapsed": false,
    "jupyter": {
     "outputs_hidden": false
    }
   },
   "source": [
    "Numpy is the core library for scientific computing in Python. It provides a high-performance multidimensional array object, and tools for working with these arrays. If you are already familiar with MATLAB, you might find this [tutorial](http://wiki.scipy.org/NumPy_for_Matlab_Users) useful to get started with Numpy."
   ]
  },
  {
   "cell_type": "markdown",
   "id": "b95c98d5a6148b9a",
   "metadata": {
    "collapsed": false,
    "jupyter": {
     "outputs_hidden": false
    }
   },
   "source": [
    "To use Numpy, we first need to import the `numpy` package:"
   ]
  },
  {
   "cell_type": "code",
   "execution_count": 1,
   "id": "35f83d74ffc0c8b",
   "metadata": {
    "ExecuteTime": {
     "end_time": "2024-01-17T21:33:26.352323400Z",
     "start_time": "2024-01-17T21:33:25.235358600Z"
    },
    "collapsed": false,
    "jupyter": {
     "outputs_hidden": false
    }
   },
   "outputs": [],
   "source": [
    "!pip intall numpy\n",
    "import numpy as np"
   ]
  },
  {
   "cell_type": "markdown",
   "id": "a9c7a155d51650a7",
   "metadata": {
    "collapsed": false,
    "jupyter": {
     "outputs_hidden": false
    }
   },
   "source": [
    "### Arrays"
   ]
  },
  {
   "cell_type": "markdown",
   "id": "9f88f4ad18113d6f",
   "metadata": {
    "collapsed": false,
    "jupyter": {
     "outputs_hidden": false
    }
   },
   "source": [
    "A numpy array is a grid of values, all of the same type, and is indexed by a tuple of nonnegative integers. The number of dimensions is the rank of the array; the shape of an array is a tuple of integers giving the size of the array along each dimension."
   ]
  },
  {
   "cell_type": "markdown",
   "id": "e1e3b468299ecde0",
   "metadata": {
    "collapsed": false,
    "jupyter": {
     "outputs_hidden": false
    }
   },
   "source": [
    "We can initialize numpy arrays from nested Python lists, and access elements using square brackets:"
   ]
  },
  {
   "cell_type": "code",
   "execution_count": 2,
   "id": "c7ad23116816beaf",
   "metadata": {
    "ExecuteTime": {
     "end_time": "2024-01-17T21:33:26.360103400Z",
     "start_time": "2024-01-17T21:33:26.134359Z"
    },
    "collapsed": false,
    "jupyter": {
     "outputs_hidden": false
    }
   },
   "outputs": [
    {
     "name": "stdout",
     "output_type": "stream",
     "text": [
      "<class 'numpy.ndarray'> (3,) 1 2 3\n",
      "[5 2 3]\n"
     ]
    }
   ],
   "source": [
    "a = np.array([1, 2, 3])  # Create a rank 1 array\n",
    "print(type(a), a.shape, a[0], a[1], a[2])\n",
    "a[0] = 5                 # Change an element of the array\n",
    "print(a)"
   ]
  },
  {
   "cell_type": "code",
   "execution_count": 3,
   "id": "c460879b8f84619d",
   "metadata": {
    "ExecuteTime": {
     "end_time": "2024-01-17T21:33:26.361107400Z",
     "start_time": "2024-01-17T21:33:26.143408900Z"
    },
    "collapsed": false,
    "jupyter": {
     "outputs_hidden": false
    }
   },
   "outputs": [
    {
     "name": "stdout",
     "output_type": "stream",
     "text": [
      "[[1 2 3]\n",
      " [4 5 6]]\n"
     ]
    }
   ],
   "source": [
    "b = np.array([[1,2,3],[4,5,6]])   # Create a rank 2 array\n",
    "print(b)"
   ]
  },
  {
   "cell_type": "code",
   "execution_count": 4,
   "id": "e9873e588bc078e",
   "metadata": {
    "ExecuteTime": {
     "end_time": "2024-01-17T21:33:26.362105500Z",
     "start_time": "2024-01-17T21:33:26.156407900Z"
    },
    "collapsed": false,
    "jupyter": {
     "outputs_hidden": false
    }
   },
   "outputs": [
    {
     "name": "stdout",
     "output_type": "stream",
     "text": [
      "(2, 3)\n",
      "1 2 4\n"
     ]
    }
   ],
   "source": [
    "print(b.shape)\n",
    "print(b[0, 0], b[0, 1], b[1, 0])"
   ]
  },
  {
   "cell_type": "markdown",
   "id": "1017b2c713673277",
   "metadata": {
    "collapsed": false,
    "jupyter": {
     "outputs_hidden": false
    }
   },
   "source": [
    "Numpy also provides many functions to create arrays:"
   ]
  },
  {
   "cell_type": "code",
   "execution_count": 5,
   "id": "34c1d8a71ed7aacc",
   "metadata": {
    "ExecuteTime": {
     "end_time": "2024-01-17T21:33:26.362105500Z",
     "start_time": "2024-01-17T21:33:26.168408400Z"
    },
    "collapsed": false,
    "jupyter": {
     "outputs_hidden": false
    }
   },
   "outputs": [
    {
     "name": "stdout",
     "output_type": "stream",
     "text": [
      "[[0. 0.]\n",
      " [0. 0.]]\n"
     ]
    }
   ],
   "source": [
    "a = np.zeros((2,2))  # Create an array of all zeros\n",
    "print(a)"
   ]
  },
  {
   "cell_type": "code",
   "execution_count": 6,
   "id": "ab2dd4125b2b7b7e",
   "metadata": {
    "ExecuteTime": {
     "end_time": "2024-01-17T21:33:26.363101400Z",
     "start_time": "2024-01-17T21:33:26.182931300Z"
    },
    "collapsed": false,
    "jupyter": {
     "outputs_hidden": false
    }
   },
   "outputs": [
    {
     "name": "stdout",
     "output_type": "stream",
     "text": [
      "[[1. 1.]]\n"
     ]
    }
   ],
   "source": [
    "b = np.ones((1,2))   # Create an array of all ones\n",
    "print(b)"
   ]
  },
  {
   "cell_type": "code",
   "execution_count": 7,
   "id": "4fbc0b31ffefda01",
   "metadata": {
    "ExecuteTime": {
     "end_time": "2024-01-17T21:33:26.364100500Z",
     "start_time": "2024-01-17T21:33:26.189931500Z"
    },
    "collapsed": false,
    "jupyter": {
     "outputs_hidden": false
    }
   },
   "outputs": [
    {
     "name": "stdout",
     "output_type": "stream",
     "text": [
      "[[7 7]\n",
      " [7 7]]\n"
     ]
    }
   ],
   "source": [
    "c = np.full((2,2), 7) # Create a constant array\n",
    "print(c)"
   ]
  },
  {
   "cell_type": "code",
   "execution_count": 8,
   "id": "789fbe3124890ac5",
   "metadata": {
    "ExecuteTime": {
     "end_time": "2024-01-17T21:33:26.365103800Z",
     "start_time": "2024-01-17T21:33:26.198937100Z"
    },
    "collapsed": false,
    "jupyter": {
     "outputs_hidden": false
    }
   },
   "outputs": [
    {
     "name": "stdout",
     "output_type": "stream",
     "text": [
      "[[1. 0.]\n",
      " [0. 1.]]\n"
     ]
    }
   ],
   "source": [
    "d = np.eye(2)        # Create a 2x2 identity matrix\n",
    "print(d)"
   ]
  },
  {
   "cell_type": "code",
   "execution_count": 9,
   "id": "51d94746f12c0dec",
   "metadata": {
    "ExecuteTime": {
     "end_time": "2024-01-17T21:33:26.365103800Z",
     "start_time": "2024-01-17T21:33:26.207931600Z"
    },
    "collapsed": false,
    "jupyter": {
     "outputs_hidden": false
    }
   },
   "outputs": [
    {
     "name": "stdout",
     "output_type": "stream",
     "text": [
      "[[0.99712671 0.23365587]\n",
      " [0.91082818 0.63802981]]\n"
     ]
    }
   ],
   "source": [
    "e = np.random.random((2,2)) # Create an array filled with random values\n",
    "print(e)"
   ]
  },
  {
   "cell_type": "markdown",
   "id": "8b6b762169dc497d",
   "metadata": {
    "collapsed": false,
    "jupyter": {
     "outputs_hidden": false
    }
   },
   "source": [
    "### Exercise 01\n",
    "Create an 4X 4 array in numpy with random values it it. Print the values to verify your array creation."
   ]
  },
  {
   "cell_type": "code",
   "execution_count": 1,
   "id": "ae6dee21e387e22d",
   "metadata": {
    "ExecuteTime": {
     "end_time": "2024-01-17T21:33:26.365103800Z",
     "start_time": "2024-01-17T21:33:26.216934800Z"
    },
    "collapsed": false,
    "jupyter": {
     "outputs_hidden": false
    }
   },
   "outputs": [
    {
     "name": "stdout",
     "output_type": "stream",
     "text": [
      "[[0.51122797 0.57952193 0.28003395 0.37561626]\n",
      " [0.99147385 0.59562857 0.14328304 0.72994599]\n",
      " [0.65995802 0.08151365 0.31359685 0.63705935]\n",
      " [0.55402768 0.48902444 0.04461233 0.83039318]]\n"
     ]
    }
   ],
   "source": [
    "import numpy as np\n",
    "\n",
    "# Create a 4x4 array with random values\n",
    "random_array = np.random.random((4, 4))\n",
    "\n",
    "# Print the array to verify its creation\n",
    "print(random_array)"
   ]
  },
  {
   "cell_type": "markdown",
   "id": "639dc0a9b489c03a",
   "metadata": {
    "collapsed": false,
    "jupyter": {
     "outputs_hidden": false
    }
   },
   "source": [
    "### Array indexing"
   ]
  },
  {
   "cell_type": "markdown",
   "id": "a659ae61a592d352",
   "metadata": {
    "collapsed": false,
    "jupyter": {
     "outputs_hidden": false
    }
   },
   "source": [
    "Numpy offers several ways to index into arrays."
   ]
  },
  {
   "cell_type": "markdown",
   "id": "4227607476037f5e",
   "metadata": {
    "collapsed": false,
    "jupyter": {
     "outputs_hidden": false
    }
   },
   "source": [
    "Slicing: Similar to Python lists, numpy arrays can be sliced. Since arrays may be multidimensional, you must specify a slice for each dimension of the array:"
   ]
  },
  {
   "cell_type": "code",
   "execution_count": 48,
   "id": "9a74ecaad800f4c8",
   "metadata": {
    "ExecuteTime": {
     "end_time": "2024-01-17T22:19:35.805249700Z",
     "start_time": "2024-01-17T22:19:35.736667900Z"
    },
    "collapsed": false,
    "jupyter": {
     "outputs_hidden": false
    }
   },
   "outputs": [
    {
     "name": "stdout",
     "output_type": "stream",
     "text": [
      "[[6 7]]\n"
     ]
    }
   ],
   "source": [
    "import numpy as np\n",
    "\n",
    "# Create the following rank 2 array with shape (3, 4)\n",
    "# [[ 1  2  3  4]\n",
    "#  [ 5  6  7  8]\n",
    "#  [ 9 10 11 12]]\n",
    "a = np.array([[1,2,3,4], [5,6,7,8], [9,10,11,12]])\n",
    "\n",
    "# Use slicing to pull out the subarray consisting of the first 2 rows\n",
    "# and columns 1 and 2; b is the following array of shape (2, 2):\n",
    "# [[2 3]\n",
    "#  [6 7]]\n",
    "b = a[:2, 1:3]\n",
    "print(b)"
   ]
  },
  {
   "cell_type": "markdown",
   "id": "bc9f6c44d57239ba",
   "metadata": {
    "collapsed": false,
    "jupyter": {
     "outputs_hidden": false
    }
   },
   "source": [
    "A slice of an array is a view into the same data, so modifying it will modify the original array."
   ]
  },
  {
   "cell_type": "code",
   "execution_count": 11,
   "id": "a67af15adae4b44e",
   "metadata": {
    "ExecuteTime": {
     "end_time": "2024-01-17T21:33:26.367103200Z",
     "start_time": "2024-01-17T21:33:26.232518200Z"
    },
    "collapsed": false,
    "jupyter": {
     "outputs_hidden": false
    }
   },
   "outputs": [
    {
     "name": "stdout",
     "output_type": "stream",
     "text": [
      "2\n",
      "77\n"
     ]
    }
   ],
   "source": [
    "print(a[0, 1])\n",
    "b[0, 0] = 77    # b[0, 0] is the same piece of data as a[0, 1]\n",
    "print(a[0, 1])"
   ]
  },
  {
   "cell_type": "markdown",
   "id": "e578fcbf77ee5b15",
   "metadata": {
    "collapsed": false,
    "jupyter": {
     "outputs_hidden": false
    }
   },
   "source": [
    "You can also mix integer indexing with slice indexing. However, doing so will yield an array of lower rank than the original array. Note that this is quite different from the way that MATLAB handles array slicing:"
   ]
  },
  {
   "cell_type": "code",
   "execution_count": 12,
   "id": "d230bc7de45a0cdd",
   "metadata": {
    "ExecuteTime": {
     "end_time": "2024-01-17T21:33:26.367103200Z",
     "start_time": "2024-01-17T21:33:26.240563800Z"
    },
    "collapsed": false,
    "jupyter": {
     "outputs_hidden": false
    }
   },
   "outputs": [
    {
     "name": "stdout",
     "output_type": "stream",
     "text": [
      "[[ 1  2  3  4]\n",
      " [ 5  6  7  8]\n",
      " [ 9 10 11 12]]\n"
     ]
    }
   ],
   "source": [
    "# Create the following rank 2 array with shape (3, 4)\n",
    "a = np.array([[1,2,3,4], [5,6,7,8], [9,10,11,12]])\n",
    "print(a)"
   ]
  },
  {
   "cell_type": "markdown",
   "id": "62d948fc1922f569",
   "metadata": {
    "collapsed": false,
    "jupyter": {
     "outputs_hidden": false
    }
   },
   "source": []
  },
  {
   "cell_type": "markdown",
   "id": "6f80f94204043d0a",
   "metadata": {
    "collapsed": false,
    "jupyter": {
     "outputs_hidden": false
    }
   },
   "source": [
    "Two ways of accessing the data in the middle row of the array.\n",
    "Mixing integer indexing with slices yields an array of lower rank,\n",
    "while using only slices yields an array of the same rank as the\n",
    "original array:"
   ]
  },
  {
   "cell_type": "code",
   "execution_count": 13,
   "id": "c56824f114c5d638",
   "metadata": {
    "ExecuteTime": {
     "end_time": "2024-01-17T21:33:26.368103600Z",
     "start_time": "2024-01-17T21:33:26.246613400Z"
    },
    "collapsed": false,
    "jupyter": {
     "outputs_hidden": false
    }
   },
   "outputs": [
    {
     "name": "stdout",
     "output_type": "stream",
     "text": [
      "[5 6 7 8] (4,)\n",
      "[[5 6 7 8]] (1, 4)\n",
      "[[5 6 7 8]] (1, 4)\n"
     ]
    }
   ],
   "source": [
    "row_r1 = a[1, :]    # Rank 1 view of the second row of a\n",
    "row_r2 = a[1:2, :]  # Rank 2 view of the second row of a\n",
    "row_r3 = a[[1], :]  # Rank 2 view of the second row of a\n",
    "print(row_r1, row_r1.shape)\n",
    "print(row_r2, row_r2.shape)\n",
    "print(row_r3, row_r3.shape)"
   ]
  },
  {
   "cell_type": "code",
   "execution_count": 14,
   "id": "fd0ea356051ad4d6",
   "metadata": {
    "ExecuteTime": {
     "end_time": "2024-01-17T21:33:26.369099500Z",
     "start_time": "2024-01-17T21:33:26.260164900Z"
    },
    "collapsed": false,
    "jupyter": {
     "outputs_hidden": false
    }
   },
   "outputs": [
    {
     "name": "stdout",
     "output_type": "stream",
     "text": [
      "[ 2  6 10] (3,)\n",
      "\n",
      "[[ 2]\n",
      " [ 6]\n",
      " [10]] (3, 1)\n"
     ]
    }
   ],
   "source": [
    "# We can make the same distinction when accessing columns of an array:\n",
    "col_r1 = a[:, 1]\n",
    "col_r2 = a[:, 1:2]\n",
    "print(col_r1, col_r1.shape)\n",
    "print()\n",
    "print(col_r2, col_r2.shape)"
   ]
  },
  {
   "cell_type": "markdown",
   "id": "2ef17313e870e142",
   "metadata": {
    "collapsed": false,
    "jupyter": {
     "outputs_hidden": false
    }
   },
   "source": [
    "### Exercise 02\n",
    "try to access 3rd and 4th member of 1st row of your created array in exercise 01. From the 2nd line try to accept all, from the 3rd line only accept the first value and from the 4th line, accept all. Print this subarray to verify your output."
   ]
  },
  {
   "cell_type": "code",
   "execution_count": 6,
   "id": "1e8e9b704ab8ca0f",
   "metadata": {
    "ExecuteTime": {
     "end_time": "2024-01-17T21:33:26.369099500Z",
     "start_time": "2024-01-17T21:33:26.267165Z"
    },
    "collapsed": false,
    "jupyter": {
     "outputs_hidden": false
    }
   },
   "outputs": [
    {
     "name": "stdout",
     "output_type": "stream",
     "text": [
      "[[0.83107717 0.80020758 0.91252696 0.39001561]\n",
      " [0.87073985 0.07753874 0.53992652 0.93743883]\n",
      " [0.11070012 0.66929382 0.87415612 0.99950629]\n",
      " [0.84860767 0.29767423 0.78463757 0.49079751]]\n"
     ]
    },
    {
     "ename": "ValueError",
     "evalue": "setting an array element with a sequence. The requested array has an inhomogeneous shape after 1 dimensions. The detected shape was (4,) + inhomogeneous part.",
     "output_type": "error",
     "traceback": [
      "\u001b[0;31m---------------------------------------------------------------------------\u001b[0m",
      "\u001b[0;31mValueError\u001b[0m                                Traceback (most recent call last)",
      "Cell \u001b[0;32mIn[6], line 22\u001b[0m\n\u001b[1;32m     19\u001b[0m row4_values \u001b[38;5;241m=\u001b[39m random_array[\u001b[38;5;241m3\u001b[39m, :]\n\u001b[1;32m     21\u001b[0m \u001b[38;5;66;03m# Combine these into a subarray\u001b[39;00m\n\u001b[0;32m---> 22\u001b[0m subarray \u001b[38;5;241m=\u001b[39m \u001b[43mnp\u001b[49m\u001b[38;5;241;43m.\u001b[39;49m\u001b[43marray\u001b[49m\u001b[43m(\u001b[49m\u001b[43m[\u001b[49m\n\u001b[1;32m     23\u001b[0m \u001b[43m    \u001b[49m\u001b[43mrow1_values\u001b[49m\u001b[43m,\u001b[49m\n\u001b[1;32m     24\u001b[0m \u001b[43m    \u001b[49m\u001b[43mrow2_values\u001b[49m\u001b[43m,\u001b[49m\n\u001b[1;32m     25\u001b[0m \u001b[43m    \u001b[49m\u001b[43m[\u001b[49m\u001b[43mrow3_values\u001b[49m\u001b[43m]\u001b[49m\u001b[43m,\u001b[49m\u001b[43m  \u001b[49m\u001b[38;5;66;43;03m# Encapsulate in a list to maintain shape consistency\u001b[39;49;00m\n\u001b[1;32m     26\u001b[0m \u001b[43m    \u001b[49m\u001b[43mrow4_values\u001b[49m\n\u001b[1;32m     27\u001b[0m \u001b[43m]\u001b[49m\u001b[43m)\u001b[49m\n\u001b[1;32m     29\u001b[0m \u001b[38;5;66;03m# Print the output to verify\u001b[39;00m\n\u001b[1;32m     30\u001b[0m \u001b[38;5;28mprint\u001b[39m(subarray)\n",
      "\u001b[0;31mValueError\u001b[0m: setting an array element with a sequence. The requested array has an inhomogeneous shape after 1 dimensions. The detected shape was (4,) + inhomogeneous part."
     ]
    }
   ],
   "source": [
    "import numpy as np\n",
    "\n",
    "# Create a 4x4 array with random values\n",
    "random_array = np.random.random((4, 4))\n",
    "\n",
    "# Print the array to verify its creation\n",
    "print(random_array)\n",
    "\n",
    "# Access the 3rd and 4th elements of the 1st row\n",
    "row1_values = random_array[0, 2:4]\n",
    "\n",
    "# From the 2nd row, accept all elements\n",
    "row2_values = random_array[1, :]\n",
    "\n",
    "# From the 3rd row, accept only the first element\n",
    "row3_values = random_array[2, 0]\n",
    "\n",
    "# From the 4th row, accept all elements\n",
    "row4_values = random_array[3, :]\n",
    "\n",
    "# Combine these into a subarray\n",
    "subarray = np.array([\n",
    "    row1_values,\n",
    "    row2_values,\n",
    "    [row3_values],  # Encapsulate in a list to maintain shape consistency\n",
    "    row4_values\n",
    "])\n",
    "\n",
    "# Print the output to verify\n",
    "print(subarray)\n"
   ]
  },
  {
   "cell_type": "markdown",
   "id": "afff4025cee9f2eb",
   "metadata": {
    "collapsed": false,
    "jupyter": {
     "outputs_hidden": false
    }
   },
   "source": [
    "Integer array indexing: When you index into numpy arrays using slicing, the resulting array view will always be a subarray of the original array. In contrast, integer array indexing allows you to construct arbitrary arrays using the data from another array. Here is an example:"
   ]
  },
  {
   "cell_type": "code",
   "execution_count": 5,
   "id": "4d5a43584d4341c",
   "metadata": {
    "ExecuteTime": {
     "end_time": "2024-01-17T22:27:13.329666Z",
     "start_time": "2024-01-17T22:27:13.292555Z"
    },
    "collapsed": false,
    "jupyter": {
     "outputs_hidden": false
    }
   },
   "outputs": [
    {
     "name": "stdout",
     "output_type": "stream",
     "text": [
      "[1 4 5]\n",
      "[1 4 5]\n"
     ]
    }
   ],
   "source": [
    "a = np.array([[1,2], [3, 4], [5, 6]])\n",
    "\n",
    "# An example of integer array indexing.\n",
    "# The returned array will have shape (3,) and\n",
    "print(a[[0, 1, 2], [0, 1, 0]])\n",
    "\n",
    "# The above example of integer array indexing is equivalent to this:\n",
    "print(np.array([a[0, 0], a[1, 1], a[2, 0]]))"
   ]
  },
  {
   "cell_type": "code",
   "execution_count": 16,
   "id": "109c67b18a8abd80",
   "metadata": {
    "ExecuteTime": {
     "end_time": "2024-01-17T21:33:26.371100100Z",
     "start_time": "2024-01-17T21:33:26.288725900Z"
    },
    "collapsed": false,
    "jupyter": {
     "outputs_hidden": false
    }
   },
   "outputs": [
    {
     "name": "stdout",
     "output_type": "stream",
     "text": [
      "[2 2]\n",
      "[2 2]\n"
     ]
    }
   ],
   "source": [
    "# When using integer array indexing, you can reuse the same\n",
    "# element from the source array:\n",
    "print(a[[0, 0], [1, 1]])\n",
    "\n",
    "# Equivalent to the previous integer array indexing example\n",
    "print(np.array([a[0, 1], a[0, 1]]))"
   ]
  },
  {
   "cell_type": "markdown",
   "id": "ee354ac297722963",
   "metadata": {
    "collapsed": false,
    "jupyter": {
     "outputs_hidden": false
    }
   },
   "source": [
    "One useful trick with integer array indexing is selecting or mutating one element from each row of a matrix:"
   ]
  },
  {
   "cell_type": "code",
   "execution_count": 17,
   "id": "d33ab0c8a71e33f9",
   "metadata": {
    "ExecuteTime": {
     "end_time": "2024-01-17T21:33:26.372100200Z",
     "start_time": "2024-01-17T21:33:26.295726900Z"
    },
    "collapsed": false,
    "jupyter": {
     "outputs_hidden": false
    }
   },
   "outputs": [
    {
     "name": "stdout",
     "output_type": "stream",
     "text": [
      "[[ 1  2  3]\n",
      " [ 4  5  6]\n",
      " [ 7  8  9]\n",
      " [10 11 12]]\n"
     ]
    }
   ],
   "source": [
    "# Create a new array from which we will select elements\n",
    "a = np.array([[1,2,3], [4,5,6], [7,8,9], [10, 11, 12]])\n",
    "print(a)"
   ]
  },
  {
   "cell_type": "code",
   "execution_count": 2,
   "id": "a79a0e30fd3ada85",
   "metadata": {
    "ExecuteTime": {
     "end_time": "2024-01-22T14:19:56.560640Z",
     "start_time": "2024-01-22T14:19:56.532991300Z"
    },
    "collapsed": false,
    "jupyter": {
     "outputs_hidden": false
    }
   },
   "outputs": [
    {
     "name": "stdout",
     "output_type": "stream",
     "text": [
      "(2, 3)\n"
     ]
    }
   ],
   "source": [
    "import numpy as np\n",
    "\n",
    "a = np.array([[0, 1, 2], [3, 4, 5]])\n",
    "print(a.shape)"
   ]
  },
  {
   "cell_type": "code",
   "execution_count": 18,
   "id": "f20140fd50d9005f",
   "metadata": {
    "ExecuteTime": {
     "end_time": "2024-01-17T21:33:26.372100200Z",
     "start_time": "2024-01-17T21:33:26.305727700Z"
    },
    "collapsed": false,
    "jupyter": {
     "outputs_hidden": false
    }
   },
   "outputs": [
    {
     "name": "stdout",
     "output_type": "stream",
     "text": [
      "[ 1  6  7 11]\n"
     ]
    }
   ],
   "source": [
    "# Create an array of indices\n",
    "b = np.array([0, 2, 0, 1])\n",
    "\n",
    "# Select one element from each row of a using the indices in b\n",
    "print(a[np.arange(4), b])  # Prints \"[ 1  6  7 11]\""
   ]
  },
  {
   "cell_type": "code",
   "execution_count": 19,
   "id": "2f9aff367ade81e4",
   "metadata": {
    "ExecuteTime": {
     "end_time": "2024-01-17T21:33:26.373100200Z",
     "start_time": "2024-01-17T21:33:26.313766600Z"
    },
    "collapsed": false,
    "jupyter": {
     "outputs_hidden": false
    }
   },
   "outputs": [
    {
     "name": "stdout",
     "output_type": "stream",
     "text": [
      "[[11  2  3]\n",
      " [ 4  5 16]\n",
      " [17  8  9]\n",
      " [10 21 12]]\n"
     ]
    }
   ],
   "source": [
    "# Mutate one element from each row of a using the indices in b\n",
    "a[np.arange(4), b] += 10\n",
    "print(a)"
   ]
  },
  {
   "cell_type": "markdown",
   "id": "6a52590a13fb69b1",
   "metadata": {
    "collapsed": false,
    "jupyter": {
     "outputs_hidden": false
    }
   },
   "source": [
    "Boolean array indexing: Boolean array indexing lets you pick out arbitrary elements of an array. Frequently this type of indexing is used to select the elements of an array that satisfy some condition. Here is an example:"
   ]
  },
  {
   "cell_type": "code",
   "execution_count": null,
   "id": "15dfca5abf37330",
   "metadata": {
    "collapsed": false,
    "jupyter": {
     "outputs_hidden": false
    }
   },
   "outputs": [],
   "source": []
  },
  {
   "cell_type": "code",
   "execution_count": 1,
   "id": "ffde388b3110df75",
   "metadata": {
    "ExecuteTime": {
     "end_time": "2024-01-22T14:12:12.194080700Z",
     "start_time": "2024-01-22T14:12:11.761787400Z"
    },
    "collapsed": false,
    "jupyter": {
     "outputs_hidden": false
    }
   },
   "outputs": [
    {
     "name": "stdout",
     "output_type": "stream",
     "text": [
      "13\n"
     ]
    }
   ],
   "source": [
    "import numpy as np\n",
    "\n",
    "a = np.array([1,2,3,4,5])\n",
    "b = np.arange(0,10,2)\n",
    "c = a + b\n",
    "print (c[4])"
   ]
  },
  {
   "cell_type": "code",
   "execution_count": 20,
   "id": "9006a35b657bd4da",
   "metadata": {
    "ExecuteTime": {
     "end_time": "2024-01-17T21:33:26.373100200Z",
     "start_time": "2024-01-17T21:33:26.323765700Z"
    },
    "collapsed": false,
    "jupyter": {
     "outputs_hidden": false
    }
   },
   "outputs": [
    {
     "name": "stdout",
     "output_type": "stream",
     "text": [
      "[[False False]\n",
      " [ True  True]\n",
      " [ True  True]]\n"
     ]
    }
   ],
   "source": [
    "import numpy as np\n",
    "\n",
    "a = np.array([[1,2], [3, 4], [5, 6]])\n",
    "\n",
    "bool_idx = (a > 2)  # Find the elements of a that are bigger than 2;\n",
    "                    # this returns a numpy array of Booleans of the same\n",
    "                    # shape as a, where each slot of bool_idx tells\n",
    "                    # whether that element of a is > 2.\n",
    "\n",
    "print(bool_idx)"
   ]
  },
  {
   "cell_type": "code",
   "execution_count": 21,
   "id": "3efb639252e7d590",
   "metadata": {
    "ExecuteTime": {
     "end_time": "2024-01-17T21:33:26.374101800Z",
     "start_time": "2024-01-17T21:33:26.332483400Z"
    },
    "collapsed": false,
    "jupyter": {
     "outputs_hidden": false
    }
   },
   "outputs": [
    {
     "name": "stdout",
     "output_type": "stream",
     "text": [
      "[3 4 5 6]\n",
      "[3 4 5 6]\n"
     ]
    }
   ],
   "source": [
    "# We use boolean array indexing to construct a rank 1 array\n",
    "# consisting of the elements of a corresponding to the True values\n",
    "# of bool_idx\n",
    "print(a[bool_idx])\n",
    "\n",
    "# We can do all of the above in a single concise statement:\n",
    "print(a[a > 2])"
   ]
  },
  {
   "cell_type": "markdown",
   "id": "270eb6b1688efd89",
   "metadata": {
    "collapsed": false,
    "jupyter": {
     "outputs_hidden": false
    }
   },
   "source": [
    "### Exercise 03\n",
    "Can you reformulate the array operation you did in exercise 02 with integer indexing and booleaning indexing? If yes, please keep the code and explain it to your teacher. If not, please write down why you can't and show that to the teacher."
   ]
  },
  {
   "cell_type": "markdown",
   "id": "1935d8d5-40f4-4076-b486-f76387037345",
   "metadata": {
    "ExecuteTime": {
     "end_time": "2024-01-17T21:33:26.374101800Z",
     "start_time": "2024-01-17T21:33:26.339485400Z"
    },
    "collapsed": false,
    "jupyter": {
     "outputs_hidden": false
    }
   },
   "source": [
    "<h1>ANSWER TO EXERCISE 03</h1>\n",
    "<p>\n",
    "Integer indexing can directly specify the rows and columns to extract. This is straightforward and concise.\n",
    "</p>\n",
    "<p>Boolean indexing requires creating masks for specific elements, which can be more verbose. However, it is helpful when conditions (e.g., value thresholds) are used to filter data dynamically.\n",
    "</p>"
   ]
  },
  {
   "cell_type": "markdown",
   "id": "40b382ad4988bbe1",
   "metadata": {
    "collapsed": false,
    "jupyter": {
     "outputs_hidden": false
    }
   },
   "source": [
    "For brevity we have left out a lot of details about numpy array indexing; if you want to know more you should read the documentation."
   ]
  },
  {
   "cell_type": "markdown",
   "id": "c22017fc1633a9ad",
   "metadata": {
    "collapsed": false,
    "jupyter": {
     "outputs_hidden": false
    }
   },
   "source": [
    "### Datatypes"
   ]
  },
  {
   "cell_type": "markdown",
   "id": "9baa34a90ac9a121",
   "metadata": {
    "collapsed": false,
    "jupyter": {
     "outputs_hidden": false
    }
   },
   "source": [
    "Every numpy array is a grid of elements of the same type. Numpy provides a large set of numeric datatypes that you can use to construct arrays. Numpy tries to guess a datatype when you create an array, but functions that construct arrays usually also include an optional argument to explicitly specify the datatype. Here is an example:"
   ]
  },
  {
   "cell_type": "code",
   "execution_count": 22,
   "id": "da55861ef30f801",
   "metadata": {
    "ExecuteTime": {
     "end_time": "2024-01-17T21:33:26.391629600Z",
     "start_time": "2024-01-17T21:33:26.344484100Z"
    },
    "collapsed": false,
    "jupyter": {
     "outputs_hidden": false
    }
   },
   "outputs": [
    {
     "name": "stdout",
     "output_type": "stream",
     "text": [
      "int32 float64 int64\n"
     ]
    }
   ],
   "source": [
    "x = np.array([1, 2])  # Let numpy choose the datatype\n",
    "y = np.array([1.0, 2.0])  # Let numpy choose the datatype\n",
    "z = np.array([1, 2], dtype=np.int64)  # Force a particular datatype\n",
    "\n",
    "print(x.dtype, y.dtype, z.dtype)"
   ]
  },
  {
   "cell_type": "markdown",
   "id": "5783d43b0da8fe31",
   "metadata": {
    "collapsed": false,
    "jupyter": {
     "outputs_hidden": false
    }
   },
   "source": [
    "### Exercise 04\n",
    "Can you tell me what datatypes do you have for your created random array at exercise 01?"
   ]
  },
  {
   "cell_type": "code",
   "execution_count": 11,
   "id": "373a3194045c70b4",
   "metadata": {
    "ExecuteTime": {
     "end_time": "2024-01-17T21:33:26.401672200Z",
     "start_time": "2024-01-17T21:33:26.356371600Z"
    },
    "collapsed": false,
    "jupyter": {
     "outputs_hidden": false
    }
   },
   "outputs": [
    {
     "name": "stdout",
     "output_type": "stream",
     "text": [
      "[[0.00291895 0.96428919 0.18370193 0.58144549]\n",
      " [0.68326795 0.16348407 0.76418837 0.28627127]\n",
      " [0.55365543 0.48146195 0.79290661 0.80059201]\n",
      " [0.83540004 0.32338159 0.86702241 0.7835566 ]]\n",
      "float64\n"
     ]
    }
   ],
   "source": [
    "import numpy as np\n",
    "\n",
    "# Create a 4x4 array with random values\n",
    "random_array = np.random.random((4, 4))\n",
    "#Printing the array elements\n",
    "print(random_array)\n",
    "#Printing array's datatype\n",
    "print(random_array.dtype)"
   ]
  },
  {
   "cell_type": "markdown",
   "id": "9a23e2e3ce45e783",
   "metadata": {
    "collapsed": false,
    "jupyter": {
     "outputs_hidden": false
    }
   },
   "source": [
    "You can read all about numpy datatypes in the [documentation](http://docs.scipy.org/doc/numpy/reference/arrays.dtypes.html)."
   ]
  },
  {
   "cell_type": "markdown",
   "id": "445117cd25ca0f1d",
   "metadata": {
    "collapsed": false,
    "jupyter": {
     "outputs_hidden": false
    }
   },
   "source": [
    "### Array math"
   ]
  },
  {
   "cell_type": "markdown",
   "id": "9f194d810f5d96aa",
   "metadata": {
    "collapsed": false,
    "jupyter": {
     "outputs_hidden": false
    }
   },
   "source": [
    "Basic mathematical functions operate elementwise on arrays, and are available both as operator overloads and as functions in the numpy module:"
   ]
  },
  {
   "cell_type": "code",
   "execution_count": 23,
   "id": "70ce75e55b1f4743",
   "metadata": {
    "ExecuteTime": {
     "end_time": "2024-01-17T21:33:26.687314400Z",
     "start_time": "2024-01-17T21:33:26.365103800Z"
    },
    "collapsed": false,
    "jupyter": {
     "outputs_hidden": false
    }
   },
   "outputs": [
    {
     "name": "stdout",
     "output_type": "stream",
     "text": [
      "[[ 6.  8.]\n",
      " [10. 12.]]\n",
      "[[ 6.  8.]\n",
      " [10. 12.]]\n"
     ]
    }
   ],
   "source": [
    "x = np.array([[1,2],[3,4]], dtype=np.float64)\n",
    "y = np.array([[5,6],[7,8]], dtype=np.float64)\n",
    "\n",
    "# Elementwise sum; both produce the array\n",
    "print(x + y)\n",
    "print(np.add(x, y))"
   ]
  },
  {
   "cell_type": "code",
   "execution_count": 24,
   "id": "82d9cf42a91783ab",
   "metadata": {
    "ExecuteTime": {
     "end_time": "2024-01-17T21:33:27.180606200Z",
     "start_time": "2024-01-17T21:33:26.378103Z"
    },
    "collapsed": false,
    "jupyter": {
     "outputs_hidden": false
    }
   },
   "outputs": [
    {
     "name": "stdout",
     "output_type": "stream",
     "text": [
      "[[-4. -4.]\n",
      " [-4. -4.]]\n",
      "[[-4. -4.]\n",
      " [-4. -4.]]\n"
     ]
    }
   ],
   "source": [
    "# Elementwise difference; both produce the array\n",
    "print(x - y)\n",
    "print(np.subtract(x, y))"
   ]
  },
  {
   "cell_type": "code",
   "execution_count": 25,
   "id": "1476f3015524cbf0",
   "metadata": {
    "ExecuteTime": {
     "end_time": "2024-01-17T21:33:27.218123300Z",
     "start_time": "2024-01-17T21:33:26.386099900Z"
    },
    "collapsed": false,
    "jupyter": {
     "outputs_hidden": false
    }
   },
   "outputs": [
    {
     "name": "stdout",
     "output_type": "stream",
     "text": [
      "[[ 5. 12.]\n",
      " [21. 32.]]\n",
      "[[ 5. 12.]\n",
      " [21. 32.]]\n"
     ]
    }
   ],
   "source": [
    "# Elementwise product; both produce the array\n",
    "print(x * y)\n",
    "print(np.multiply(x, y))"
   ]
  },
  {
   "cell_type": "code",
   "execution_count": 26,
   "id": "f75ef1ca0f006f65",
   "metadata": {
    "ExecuteTime": {
     "end_time": "2024-01-17T21:33:27.221641700Z",
     "start_time": "2024-01-17T21:33:26.395627600Z"
    },
    "collapsed": false,
    "jupyter": {
     "outputs_hidden": false
    }
   },
   "outputs": [
    {
     "name": "stdout",
     "output_type": "stream",
     "text": [
      "[[0.2        0.33333333]\n",
      " [0.42857143 0.5       ]]\n",
      "[[0.2        0.33333333]\n",
      " [0.42857143 0.5       ]]\n"
     ]
    }
   ],
   "source": [
    "# Elementwise division; both produce the array\n",
    "# [[ 0.2         0.33333333]\n",
    "#  [ 0.42857143  0.5       ]]\n",
    "print(x / y)\n",
    "print(np.divide(x, y))"
   ]
  },
  {
   "cell_type": "code",
   "execution_count": 27,
   "id": "cf0c1fbd191f1a6f",
   "metadata": {
    "ExecuteTime": {
     "end_time": "2024-01-17T21:33:27.222641500Z",
     "start_time": "2024-01-17T21:33:26.407715300Z"
    },
    "collapsed": false,
    "jupyter": {
     "outputs_hidden": false
    }
   },
   "outputs": [
    {
     "name": "stdout",
     "output_type": "stream",
     "text": [
      "[[1.         1.41421356]\n",
      " [1.73205081 2.        ]]\n"
     ]
    }
   ],
   "source": [
    "# Elementwise square root; produces the array\n",
    "# [[ 1.          1.41421356]\n",
    "#  [ 1.73205081  2.        ]]\n",
    "print(np.sqrt(x))"
   ]
  },
  {
   "cell_type": "markdown",
   "id": "f0976fd815c51aa0",
   "metadata": {
    "collapsed": false,
    "jupyter": {
     "outputs_hidden": false
    }
   },
   "source": [
    "### Exercise 05\n",
    "Create two randow numpy arrays, a and b, with 4 X 4 each and perform the following equation:\n",
    "\n",
    "A + (B * A) / B\n"
   ]
  },
  {
   "cell_type": "code",
   "execution_count": 12,
   "id": "72a69ea184b404ca",
   "metadata": {
    "ExecuteTime": {
     "end_time": "2024-01-17T21:33:27.222641500Z",
     "start_time": "2024-01-17T21:33:26.417342800Z"
    },
    "collapsed": false,
    "jupyter": {
     "outputs_hidden": false
    }
   },
   "outputs": [
    {
     "name": "stdout",
     "output_type": "stream",
     "text": [
      "Array A:\n",
      " [[0.30486824 0.42890894 0.68494561 0.17450912]\n",
      " [0.91407503 0.73034976 0.11111396 0.93499207]\n",
      " [0.0212644  0.38257767 0.62624714 0.94566319]\n",
      " [0.44429934 0.93973184 0.15219758 0.89333707]]\n",
      "\n",
      "Array B:\n",
      " [[0.40434471 0.97349638 0.35110124 0.30228167]\n",
      " [0.48420813 0.34730024 0.06713348 0.2579892 ]\n",
      " [0.30416312 0.55439886 0.92122481 0.2186601 ]\n",
      " [0.19422326 0.37695577 0.52875335 0.45424731]]\n",
      "\n",
      "Result:\n",
      " [[0.60973647 0.85781787 1.36989122 0.34901824]\n",
      " [1.82815005 1.46069953 0.22222793 1.86998413]\n",
      " [0.04252881 0.76515534 1.25249427 1.89132637]\n",
      " [0.88859869 1.87946367 0.30439515 1.78667414]]\n"
     ]
    }
   ],
   "source": [
    "import numpy as np\n",
    "\n",
    "# Create two random 4x4 numpy arrays\n",
    "A = np.random.random((4, 4))\n",
    "B = np.random.random((4, 4))\n",
    "\n",
    "# Perform the equation: A + (B * A) / B\n",
    "result = A + (B * A) / B\n",
    "\n",
    "# Print the arrays and the result to verify\n",
    "print(\"Array A:\\n\", A)\n",
    "print(\"\\nArray B:\\n\", B)\n",
    "print(\"\\nResult:\\n\", result)"
   ]
  },
  {
   "cell_type": "markdown",
   "id": "e9ac6960fa7ac5ed",
   "metadata": {
    "collapsed": false,
    "jupyter": {
     "outputs_hidden": false
    }
   },
   "source": [
    "### Exercise 06\n",
    "Create two randow numpy arrays, a and b,one with 4 X 4 and another with 3 X 3 and perform the following equation again:\n",
    "\n",
    "A + (B * A) / B\n",
    "\n",
    "Are you successful? If yes, please keep it and show the work to teacher. If not, please explain why do you think you couldn't perform this operation."
   ]
  },
  {
   "cell_type": "code",
   "execution_count": 13,
   "id": "ea8debb342648d0c",
   "metadata": {
    "ExecuteTime": {
     "end_time": "2024-01-17T21:33:27.222641500Z",
     "start_time": "2024-01-17T21:33:26.423339200Z"
    },
    "collapsed": false,
    "jupyter": {
     "outputs_hidden": false
    }
   },
   "outputs": [
    {
     "name": "stdout",
     "output_type": "stream",
     "text": [
      "Error: operands could not be broadcast together with shapes (3,3) (4,4) \n"
     ]
    }
   ],
   "source": [
    "import numpy as np\n",
    "\n",
    "# Create two random numpy arrays with different shapes\n",
    "A = np.random.random((4, 4))\n",
    "B = np.random.random((3, 3))\n",
    "\n",
    "try:\n",
    "    # Attempt the equation\n",
    "    result = A + (B * A) / B\n",
    "except ValueError as e:\n",
    "    # Capture the error and provide an explanation\n",
    "    print(\"Error:\", e)"
   ]
  },
  {
   "cell_type": "markdown",
   "id": "8984580e-0d40-49bf-95ec-27e2be424477",
   "metadata": {},
   "source": [
    "<h1>ANSWER TO EXERCISE 05</h1>\n",
    "<p>Shape Mismatch:\n",
    "A is a 4x4 matrix, and B is a 3x3 matrix.\n",
    "Numpy requires arrays to have the same shape (or compatible shapes) to perform elementwise operations like multiplication or division.</p>\n",
    "<p>\n",
    "Broadcasting:\n",
    "Numpy tries to \"broadcast\" smaller arrays to match the shape of larger ones, but in this case, the dimensions of A and B are incompatible for broadcasting.\n",
    "</p>"
   ]
  },
  {
   "cell_type": "markdown",
   "id": "4ba94ffa7ae2f573",
   "metadata": {
    "collapsed": false,
    "jupyter": {
     "outputs_hidden": false
    }
   },
   "source": [
    "Note that unlike MATLAB, `*` is elementwise multiplication, not matrix multiplication. We instead use the dot function to compute inner products of vectors, to multiply a vector by a matrix, and to multiply matrices. dot is available both as a function in the numpy module and as an instance method of array objects:"
   ]
  },
  {
   "cell_type": "code",
   "execution_count": 28,
   "id": "41d6e1499f99ad3a",
   "metadata": {
    "ExecuteTime": {
     "end_time": "2024-01-17T21:33:27.238641200Z",
     "start_time": "2024-01-17T21:33:26.431339Z"
    },
    "collapsed": false,
    "jupyter": {
     "outputs_hidden": false
    }
   },
   "outputs": [
    {
     "name": "stdout",
     "output_type": "stream",
     "text": [
      "219\n",
      "219\n"
     ]
    }
   ],
   "source": [
    "x = np.array([[1,2],[3,4]])\n",
    "y = np.array([[5,6],[7,8]])\n",
    "\n",
    "v = np.array([9,10])\n",
    "w = np.array([11, 12])\n",
    "\n",
    "# Inner product of vectors; both produce 219\n",
    "print(v.dot(w))\n",
    "print(np.dot(v, w))"
   ]
  },
  {
   "cell_type": "markdown",
   "id": "f20695f0550d42ef",
   "metadata": {
    "collapsed": false,
    "jupyter": {
     "outputs_hidden": false
    }
   },
   "source": [
    "You can also use the `@` operator which is equivalent to numpy's `dot` operator."
   ]
  },
  {
   "cell_type": "code",
   "execution_count": 29,
   "id": "2e4d91e0c77ac75e",
   "metadata": {
    "ExecuteTime": {
     "end_time": "2024-01-17T21:33:27.238641200Z",
     "start_time": "2024-01-17T21:33:26.439342800Z"
    },
    "collapsed": false,
    "jupyter": {
     "outputs_hidden": false
    }
   },
   "outputs": [
    {
     "name": "stdout",
     "output_type": "stream",
     "text": [
      "219\n"
     ]
    }
   ],
   "source": [
    "print(v @ w)"
   ]
  },
  {
   "cell_type": "code",
   "execution_count": 30,
   "id": "5cbff36d268d350a",
   "metadata": {
    "ExecuteTime": {
     "end_time": "2024-01-17T21:33:27.239642900Z",
     "start_time": "2024-01-17T21:33:26.452696200Z"
    },
    "collapsed": false,
    "jupyter": {
     "outputs_hidden": false
    }
   },
   "outputs": [
    {
     "name": "stdout",
     "output_type": "stream",
     "text": [
      "[29 67]\n",
      "[29 67]\n",
      "[29 67]\n"
     ]
    }
   ],
   "source": [
    "# Matrix / vector product; both produce the rank 1 array [29 67]\n",
    "print(x.dot(v))\n",
    "print(np.dot(x, v))\n",
    "print(x @ v)"
   ]
  },
  {
   "cell_type": "code",
   "execution_count": 31,
   "id": "22d0c2f4085fcc27",
   "metadata": {
    "ExecuteTime": {
     "end_time": "2024-01-17T21:33:27.239642900Z",
     "start_time": "2024-01-17T21:33:26.462217600Z"
    },
    "collapsed": false,
    "jupyter": {
     "outputs_hidden": false
    }
   },
   "outputs": [
    {
     "name": "stdout",
     "output_type": "stream",
     "text": [
      "[[19 22]\n",
      " [43 50]]\n",
      "[[19 22]\n",
      " [43 50]]\n",
      "[[19 22]\n",
      " [43 50]]\n"
     ]
    }
   ],
   "source": [
    "# Matrix / matrix product; both produce the rank 2 array\n",
    "# [[19 22]\n",
    "#  [43 50]]\n",
    "print(x.dot(y))\n",
    "print(np.dot(x, y))\n",
    "print(x @ y)"
   ]
  },
  {
   "cell_type": "markdown",
   "id": "686c6b8bb7ca811f",
   "metadata": {
    "collapsed": false,
    "jupyter": {
     "outputs_hidden": false
    }
   },
   "source": [
    "Numpy provides many useful functions for performing computations on arrays; one of the most useful is `sum`:"
   ]
  },
  {
   "cell_type": "code",
   "execution_count": 32,
   "id": "61514b0b885cc321",
   "metadata": {
    "ExecuteTime": {
     "end_time": "2024-01-17T21:33:27.239642900Z",
     "start_time": "2024-01-17T21:33:26.471737500Z"
    },
    "collapsed": false,
    "jupyter": {
     "outputs_hidden": false
    }
   },
   "outputs": [
    {
     "name": "stdout",
     "output_type": "stream",
     "text": [
      "10\n",
      "[4 6]\n",
      "[3 7]\n"
     ]
    }
   ],
   "source": [
    "x = np.array([[1,2],[3,4]])\n",
    "\n",
    "print(np.sum(x))  # Compute sum of all elements; prints \"10\"\n",
    "print(np.sum(x, axis=0))  # Compute sum of each column; prints \"[4 6]\"\n",
    "print(np.sum(x, axis=1))  # Compute sum of each row; prints \"[3 7]\""
   ]
  },
  {
   "cell_type": "markdown",
   "id": "3c26b077e8778641",
   "metadata": {
    "collapsed": false,
    "jupyter": {
     "outputs_hidden": false
    }
   },
   "source": [
    "You can find the full list of mathematical functions provided by numpy in the [documentation](http://docs.scipy.org/doc/numpy/reference/routines.math.html).\n",
    "\n",
    "Apart from computing mathematical functions using arrays, we frequently need to reshape or otherwise manipulate data in arrays. The simplest example of this type of operation is transposing a matrix; to transpose a matrix, simply use the T attribute of an array object:"
   ]
  },
  {
   "cell_type": "code",
   "execution_count": 33,
   "id": "a7e174cf78956a94",
   "metadata": {
    "ExecuteTime": {
     "end_time": "2024-01-17T21:33:27.240641900Z",
     "start_time": "2024-01-17T21:33:26.481778500Z"
    },
    "collapsed": false,
    "jupyter": {
     "outputs_hidden": false
    }
   },
   "outputs": [
    {
     "name": "stdout",
     "output_type": "stream",
     "text": [
      "[[1 2]\n",
      " [3 4]]\n",
      "transpose\n",
      " [[1 3]\n",
      " [2 4]]\n"
     ]
    }
   ],
   "source": [
    "print(x)\n",
    "print(\"transpose\\n\", x.T)"
   ]
  },
  {
   "cell_type": "code",
   "execution_count": 34,
   "id": "1ed36fd5e6f0ad9",
   "metadata": {
    "ExecuteTime": {
     "end_time": "2024-01-17T21:33:27.240641900Z",
     "start_time": "2024-01-17T21:33:26.491866900Z"
    },
    "collapsed": false,
    "jupyter": {
     "outputs_hidden": false
    }
   },
   "outputs": [
    {
     "name": "stdout",
     "output_type": "stream",
     "text": [
      "[[1 2 3]]\n",
      "transpose\n",
      " [[1]\n",
      " [2]\n",
      " [3]]\n"
     ]
    }
   ],
   "source": [
    "v = np.array([[1,2,3]])\n",
    "print(v )\n",
    "print(\"transpose\\n\", v.T)"
   ]
  },
  {
   "cell_type": "markdown",
   "id": "da84fc46484ecbc2",
   "metadata": {
    "collapsed": false,
    "jupyter": {
     "outputs_hidden": false
    }
   },
   "source": [
    "### Broadcasting"
   ]
  },
  {
   "cell_type": "markdown",
   "id": "d54ceb44f686183e",
   "metadata": {
    "collapsed": false,
    "jupyter": {
     "outputs_hidden": false
    }
   },
   "source": [
    "Broadcasting is a powerful mechanism that allows numpy to work with arrays of different shapes when performing arithmetic operations. Frequently we have a smaller array and a larger array, and we want to use the smaller array multiple times to perform some operation on the larger array.\n",
    "\n",
    "For example, suppose that we want to add a constant vector to each row of a matrix. We could do it like this:"
   ]
  },
  {
   "cell_type": "code",
   "execution_count": 35,
   "id": "a254f1e3a138dad9",
   "metadata": {
    "ExecuteTime": {
     "end_time": "2024-01-17T21:33:27.240641900Z",
     "start_time": "2024-01-17T21:33:26.506382100Z"
    },
    "collapsed": false,
    "jupyter": {
     "outputs_hidden": false
    }
   },
   "outputs": [
    {
     "name": "stdout",
     "output_type": "stream",
     "text": [
      "[[ 2  2  4]\n",
      " [ 5  5  7]\n",
      " [ 8  8 10]\n",
      " [11 11 13]]\n"
     ]
    }
   ],
   "source": [
    "# We will add the vector v to each row of the matrix x,\n",
    "# storing the result in the matrix y\n",
    "x = np.array([[1,2,3], [4,5,6], [7,8,9], [10, 11, 12]])\n",
    "v = np.array([1, 0, 1])\n",
    "y = np.empty_like(x)   # Create an empty matrix with the same shape as x\n",
    "\n",
    "# Add the vector v to each row of the matrix x with an explicit loop\n",
    "for i in range(4):\n",
    "    y[i, :] = x[i, :] + v\n",
    "\n",
    "print(y)"
   ]
  },
  {
   "cell_type": "markdown",
   "id": "459def3fd57d8ccc",
   "metadata": {
    "collapsed": false,
    "jupyter": {
     "outputs_hidden": false
    }
   },
   "source": [
    "This works; however when the matrix `x` is very large, computing an explicit loop in Python could be slow. Note that adding the vector v to each row of the matrix `x` is equivalent to forming a matrix `vv` by stacking multiple copies of `v` vertically, then performing elementwise summation of `x` and `vv`. We could implement this approach like this:"
   ]
  },
  {
   "cell_type": "code",
   "execution_count": 36,
   "id": "df067ece5fa2dac5",
   "metadata": {
    "ExecuteTime": {
     "end_time": "2024-01-17T21:33:27.240641900Z",
     "start_time": "2024-01-17T21:33:26.518381600Z"
    },
    "collapsed": false,
    "jupyter": {
     "outputs_hidden": false
    }
   },
   "outputs": [
    {
     "name": "stdout",
     "output_type": "stream",
     "text": [
      "[[1 0 1]\n",
      " [1 0 1]\n",
      " [1 0 1]\n",
      " [1 0 1]]\n"
     ]
    }
   ],
   "source": [
    "vv = np.tile(v, (4, 1))  # Stack 4 copies of v on top of each other\n",
    "print(vv)                # Prints \"[[1 0 1]\n",
    "                         #          [1 0 1]\n",
    "                         #          [1 0 1]\n",
    "                         #          [1 0 1]]\""
   ]
  },
  {
   "cell_type": "code",
   "execution_count": 37,
   "id": "2395bc55ddb976d8",
   "metadata": {
    "ExecuteTime": {
     "end_time": "2024-01-17T21:33:27.241641Z",
     "start_time": "2024-01-17T21:33:26.526380500Z"
    },
    "collapsed": false,
    "jupyter": {
     "outputs_hidden": false
    }
   },
   "outputs": [
    {
     "name": "stdout",
     "output_type": "stream",
     "text": [
      "[[ 2  2  4]\n",
      " [ 5  5  7]\n",
      " [ 8  8 10]\n",
      " [11 11 13]]\n"
     ]
    }
   ],
   "source": [
    "y = x + vv  # Add x and vv elementwise\n",
    "print(y)"
   ]
  },
  {
   "cell_type": "markdown",
   "id": "9e172b72aa920534",
   "metadata": {
    "collapsed": false,
    "jupyter": {
     "outputs_hidden": false
    }
   },
   "source": [
    "Numpy broadcasting allows us to perform this computation without actually creating multiple copies of v. Consider this version, using broadcasting:"
   ]
  },
  {
   "cell_type": "code",
   "execution_count": 38,
   "id": "b1717921a015feb6",
   "metadata": {
    "ExecuteTime": {
     "end_time": "2024-01-17T21:33:27.241641Z",
     "start_time": "2024-01-17T21:33:26.543421500Z"
    },
    "collapsed": false,
    "jupyter": {
     "outputs_hidden": false
    }
   },
   "outputs": [
    {
     "name": "stdout",
     "output_type": "stream",
     "text": [
      "[[ 2  2  4]\n",
      " [ 5  5  7]\n",
      " [ 8  8 10]\n",
      " [11 11 13]]\n"
     ]
    }
   ],
   "source": [
    "import numpy as np\n",
    "\n",
    "# We will add the vector v to each row of the matrix x,\n",
    "# storing the result in the matrix y\n",
    "x = np.array([[1,2,3], [4,5,6], [7,8,9], [10, 11, 12]])\n",
    "v = np.array([1, 0, 1])\n",
    "y = x + v  # Add v to each row of x using broadcasting\n",
    "print(y)"
   ]
  },
  {
   "cell_type": "markdown",
   "id": "65fcdc5c293bb980",
   "metadata": {
    "collapsed": false,
    "jupyter": {
     "outputs_hidden": false
    }
   },
   "source": [
    "The line `y = x + v` works even though `x` has shape `(4, 3)` and `v` has shape `(3,)` due to broadcasting; this line works as if v actually had shape `(4, 3)`, where each row was a copy of `v`, and the sum was performed elementwise.\n",
    "\n",
    "Broadcasting two arrays together follows these rules:\n",
    "\n",
    "1. If the arrays do not have the same rank, prepend the shape of the lower rank array with 1s until both shapes have the same length.\n",
    "2. The two arrays are said to be compatible in a dimension if they have the same size in the dimension, or if one of the arrays has size 1 in that dimension.\n",
    "3. The arrays can be broadcast together if they are compatible in all dimensions.\n",
    "4. After broadcasting, each array behaves as if it had shape equal to the elementwise maximum of shapes of the two input arrays.\n",
    "5. In any dimension where one array had size 1 and the other array had size greater than 1, the first array behaves as if it were copied along that dimension\n",
    "\n",
    "If this explanation does not make sense, try reading the explanation from the [documentation](http://docs.scipy.org/doc/numpy/user/basics.broadcasting.html) or this [explanation](http://wiki.scipy.org/EricsBroadcastingDoc).\n",
    "\n",
    "Functions that support broadcasting are known as universal functions. You can find the list of all universal functions in the [documentation](http://docs.scipy.org/doc/numpy/reference/ufuncs.html#available-ufuncs).\n",
    "\n",
    "Here are some applications of broadcasting:"
   ]
  },
  {
   "cell_type": "code",
   "execution_count": 39,
   "id": "366e8d22a123563e",
   "metadata": {
    "ExecuteTime": {
     "end_time": "2024-01-17T21:33:27.241641Z",
     "start_time": "2024-01-17T21:33:26.554422900Z"
    },
    "collapsed": false,
    "jupyter": {
     "outputs_hidden": false
    }
   },
   "outputs": [
    {
     "name": "stdout",
     "output_type": "stream",
     "text": [
      "[[ 4  5]\n",
      " [ 8 10]\n",
      " [12 15]]\n"
     ]
    }
   ],
   "source": [
    "# Compute outer product of vectors\n",
    "v = np.array([1,2,3])  # v has shape (3,)\n",
    "w = np.array([4,5])    # w has shape (2,)\n",
    "# To compute an outer product, we first reshape v to be a column\n",
    "# vector of shape (3, 1); we can then broadcast it against w to yield\n",
    "# an output of shape (3, 2), which is the outer product of v and w:\n",
    "\n",
    "print(np.reshape(v, (3, 1)) * w)"
   ]
  },
  {
   "cell_type": "code",
   "execution_count": 40,
   "id": "5fa736b9849ed377",
   "metadata": {
    "ExecuteTime": {
     "end_time": "2024-01-17T21:33:27.241641Z",
     "start_time": "2024-01-17T21:33:26.560079900Z"
    },
    "collapsed": false,
    "jupyter": {
     "outputs_hidden": false
    }
   },
   "outputs": [
    {
     "name": "stdout",
     "output_type": "stream",
     "text": [
      "[[2 4 6]\n",
      " [5 7 9]]\n"
     ]
    }
   ],
   "source": [
    "# Add a vector to each row of a matrix\n",
    "x = np.array([[1,2,3], [4,5,6]])\n",
    "# x has shape (2, 3) and v has shape (3,) so they broadcast to (2, 3),\n",
    "# giving the following matrix:\n",
    "\n",
    "print(x + v)"
   ]
  },
  {
   "cell_type": "code",
   "execution_count": 41,
   "id": "60cce25e7790751",
   "metadata": {
    "ExecuteTime": {
     "end_time": "2024-01-17T21:33:27.242641800Z",
     "start_time": "2024-01-17T21:33:26.573598700Z"
    },
    "collapsed": false,
    "jupyter": {
     "outputs_hidden": false
    }
   },
   "outputs": [
    {
     "name": "stdout",
     "output_type": "stream",
     "text": [
      "[[ 5  6  7]\n",
      " [ 9 10 11]]\n"
     ]
    }
   ],
   "source": [
    "# Add a vector to each column of a matrix\n",
    "# x has shape (2, 3) and w has shape (2,).\n",
    "# If we transpose x then it has shape (3, 2) and can be broadcast\n",
    "# against w to yield a result of shape (3, 2); transposing this result\n",
    "# yields the final result of shape (2, 3) which is the matrix x with\n",
    "# the vector w added to each column. Gives the following matrix:\n",
    "\n",
    "print((x.T + w).T)"
   ]
  },
  {
   "cell_type": "code",
   "execution_count": 42,
   "id": "d567ce276ee6f5f1",
   "metadata": {
    "ExecuteTime": {
     "end_time": "2024-01-17T21:33:27.253641300Z",
     "start_time": "2024-01-17T21:33:26.583128100Z"
    },
    "collapsed": false,
    "jupyter": {
     "outputs_hidden": false
    }
   },
   "outputs": [
    {
     "name": "stdout",
     "output_type": "stream",
     "text": [
      "[[ 5  6  7]\n",
      " [ 9 10 11]]\n"
     ]
    }
   ],
   "source": [
    "# Another solution is to reshape w to be a row vector of shape (2, 1);\n",
    "# we can then broadcast it directly against x to produce the same\n",
    "# output.\n",
    "print(x + np.reshape(w, (2, 1)))"
   ]
  },
  {
   "cell_type": "code",
   "execution_count": 43,
   "id": "538f78f77a3e7984",
   "metadata": {
    "ExecuteTime": {
     "end_time": "2024-01-17T21:33:27.255166600Z",
     "start_time": "2024-01-17T21:33:26.594122500Z"
    },
    "collapsed": false,
    "jupyter": {
     "outputs_hidden": false
    }
   },
   "outputs": [
    {
     "name": "stdout",
     "output_type": "stream",
     "text": [
      "[[ 2  4  6]\n",
      " [ 8 10 12]]\n"
     ]
    }
   ],
   "source": [
    "# Multiply a matrix by a constant:\n",
    "# x has shape (2, 3). Numpy treats scalars as arrays of shape ();\n",
    "# these can be broadcast together to shape (2, 3), producing the\n",
    "# following array:\n",
    "print(x * 2)"
   ]
  },
  {
   "cell_type": "markdown",
   "id": "f23292be0aba163e",
   "metadata": {
    "collapsed": false,
    "jupyter": {
     "outputs_hidden": false
    }
   },
   "source": [
    "Broadcasting typically makes your code more concise and faster, so you should strive to use it where possible."
   ]
  },
  {
   "cell_type": "markdown",
   "id": "4c877960811d6c08",
   "metadata": {
    "collapsed": false,
    "jupyter": {
     "outputs_hidden": false
    }
   },
   "source": [
    "### Exercise 07\n",
    "Reuse the arrays you created in exercise 07, try to perform the following operation with help of Numpy Broadcasting...\n",
    "\n",
    "A + (B * A) / B\n",
    "\n",
    "Are you successful? If yes, please keep it and show the work to teacher. If not, please explain why do you think you couldn't perform this operation."
   ]
  },
  {
   "cell_type": "code",
   "execution_count": 14,
   "id": "1999f2338f7f4393",
   "metadata": {
    "ExecuteTime": {
     "end_time": "2024-01-17T21:33:27.255166600Z",
     "start_time": "2024-01-17T21:33:26.603118900Z"
    },
    "collapsed": false,
    "jupyter": {
     "outputs_hidden": false
    }
   },
   "outputs": [
    {
     "name": "stdout",
     "output_type": "stream",
     "text": [
      "Array A:\n",
      " [[0.03965245 0.67438981 0.89360151 0.82430414]\n",
      " [0.24527544 0.50975638 0.94598345 0.98834135]\n",
      " [0.20958062 0.34827422 0.58812479 0.24172153]\n",
      " [0.06813331 0.47935781 0.92858747 0.34199489]]\n",
      "\n",
      "Array B (original, 3x3):\n",
      " [[0.26268422 0.63576509 0.57861318]\n",
      " [0.16534694 0.9465528  0.60370158]\n",
      " [0.77504836 0.18515496 0.2032854 ]]\n",
      "\n",
      "Error when performing operation:\n",
      " operands could not be broadcast together with shapes (3,3) (4,4) \n",
      "\n",
      "Resized Array B (4x4):\n",
      " [[0.26268422 0.63576509 0.57861318 0.26268422]\n",
      " [0.16534694 0.9465528  0.60370158 0.16534694]\n",
      " [0.77504836 0.18515496 0.2032854  0.77504836]\n",
      " [0.26268422 0.63576509 0.57861318 0.26268422]]\n",
      "\n",
      "Result after resizing B:\n",
      " [[0.07930491 1.34877963 1.78720303 1.64860829]\n",
      " [0.49055088 1.01951276 1.89196689 1.9766827 ]\n",
      " [0.41916125 0.69654843 1.17624959 0.48344306]\n",
      " [0.13626662 0.95871561 1.85717495 0.68398978]]\n"
     ]
    }
   ],
   "source": [
    "import numpy as np\n",
    "\n",
    "# Arrays A (4x4) and B (3x3) as in Exercise 07\n",
    "A = np.random.random((4, 4))\n",
    "B = np.random.random((3, 3))\n",
    "\n",
    "# Attempt the operation with incompatible shapes\n",
    "try:\n",
    "    result = A + (B * A) / B\n",
    "except ValueError as e:\n",
    "    result_error = str(e)  # Capture the error\n",
    "\n",
    "# Resize B to match A's dimensions for broadcasting\n",
    "B_resized = np.tile(B, (2, 2))[:4, :4]  # Reshape B to 4x4\n",
    "result_fixed = A + (B_resized * A) / B_resized  # Perform the fixed operation\n",
    "\n",
    "# Output arrays and results\n",
    "print(\"Array A:\\n\", A)\n",
    "print(\"\\nArray B (original, 3x3):\\n\", B)\n",
    "print(\"\\nError when performing operation:\\n\", result_error)\n",
    "print(\"\\nResized Array B (4x4):\\n\", B_resized)\n",
    "print(\"\\nResult after resizing B:\\n\", result_fixed)"
   ]
  },
  {
   "cell_type": "markdown",
   "id": "070b2f03-1edf-41c2-8ebf-96104f177149",
   "metadata": {},
   "source": [
    "<h1>ANSWER TO EXERCISE 07</h1>\n",
    "<h2>Why the Operation Fails Initially</h2>\n",
    "<p>\n",
    "Shapes of Arrays:\n",
    "A: 4x4\n",
    "B: 3x3\n",
    "When attempting the operation A + (B * A) / B, the mismatched shapes violate broadcasting rules:\n",
    "The two arrays must either have the same shape or one of them must have a size of 1 in the mismatched dimensions.\n",
    "</p>\n",
    "<h2>Initial Attempt:</h2>\n",
    "<p>Fails due to mismatched dimensions between A and B.</p>\n",
    "<h2>Solution:</h2>\n",
    "<p>Resize B to match the shape of A using np.tile or similar methods.\n",
    "\"The original operation failed because the shapes of A (4x4) and B (3x3) are incompatible for broadcasting. By resizing B to match the dimensions of A, the operation was successfully performed.\"\n",
    "</p>"
   ]
  },
  {
   "cell_type": "code",
   "execution_count": null,
   "id": "d00267c5-9820-4253-b03c-5bdcd478fd50",
   "metadata": {},
   "outputs": [],
   "source": []
  }
 ],
 "metadata": {
  "kernelspec": {
   "display_name": "Python 3 (ipykernel)",
   "language": "python",
   "name": "python3"
  },
  "language_info": {
   "codemirror_mode": {
    "name": "ipython",
    "version": 3
   },
   "file_extension": ".py",
   "mimetype": "text/x-python",
   "name": "python",
   "nbconvert_exporter": "python",
   "pygments_lexer": "ipython3",
   "version": "3.11.6"
  }
 },
 "nbformat": 4,
 "nbformat_minor": 5
}
