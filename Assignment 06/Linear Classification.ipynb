{
 "cells": [
  {
   "cell_type": "markdown",
   "id": "4c5b04f6-307d-44d9-a6f3-ef3b979faa93",
   "metadata": {},
   "source": [
    "# Managing Big Data for Connected Devices\n",
    "\n",
    "## 420-N63-NA\n",
    "\n",
    "## Kawser Wazed Nafi\n",
    " ----------------------------------------------------------------------------------------------------------------------------------\n",
    "\n",
    "# Linear Regression\n",
    "\n",
    "In this we'll make use of the California Housing data set.\n",
    "\n",
    "The data contains one row per census block group. A block group is the smallest geographical unit for which the U.S. Census Bureau publishes sample data (a block group typically has a population of 600 to 3,000 people). In this sample a block group on average includes 1425.5 individuals living in a geographically compact area.\n",
    "\n",
    "These spatial data contain 20,640 observations on housing prices with 9 economic variables:\n",
    "\n",
    "#### Longitude\n",
    "refers to the angular distance of a geographic place north or south of the earth’s equator for each block group\n",
    "\n",
    "#### Latitude \n",
    "refers to the angular distance of a geographic place east or west of the earth’s equator for each block group\n",
    "\n",
    "#### Housing Median Age\n",
    "is the median age of the people that belong to a block group. Note that the median is the value that lies at the midpoint of a frequency distribution of observed values\n",
    "#### Total Rooms\n",
    "is the total number of rooms in the houses per block group\n",
    "\n",
    "#### Total Bedrooms\n",
    "is the total number of bedrooms in the houses per block group\n",
    "\n",
    "#### Population\n",
    "is the number of inhabitants of a block group\n",
    "\n",
    "#### Households\n",
    "refers to units of houses and their occupants per block group\n",
    "\n",
    "#### Median Income\n",
    "is used to register the median income of people that belong to a block group\n",
    "\n",
    "#### Median House Value\n",
    "is the dependent variable and refers to the median house value per block group"
   ]
  },
  {
   "cell_type": "code",
   "execution_count": 1,
   "id": "2db13a04-6757-4ffd-90a4-d7bacd8d7462",
   "metadata": {},
   "outputs": [
    {
     "name": "stdout",
     "output_type": "stream",
     "text": [
      "Collecting mllib\n",
      "  Downloading mllib-1.0.0a2.tar.gz (12 kB)\n",
      "  Installing build dependencies: started\n",
      "  Installing build dependencies: finished with status 'done'\n",
      "  Getting requirements to build wheel: started\n",
      "  Getting requirements to build wheel: finished with status 'done'\n",
      "  Preparing metadata (pyproject.toml): started\n",
      "  Preparing metadata (pyproject.toml): finished with status 'done'\n",
      "Collecting setuptools (from mllib)\n",
      "  Using cached setuptools-75.8.0-py3-none-any.whl.metadata (6.7 kB)\n",
      "Collecting requests (from mllib)\n",
      "  Downloading requests-2.32.3-py3-none-any.whl.metadata (4.6 kB)\n",
      "Collecting charset-normalizer<4,>=2 (from requests->mllib)\n",
      "  Downloading charset_normalizer-3.4.1-cp312-cp312-win_amd64.whl.metadata (36 kB)\n",
      "Collecting idna<4,>=2.5 (from requests->mllib)\n",
      "  Downloading idna-3.10-py3-none-any.whl.metadata (10 kB)\n",
      "Collecting urllib3<3,>=1.21.1 (from requests->mllib)\n",
      "  Downloading urllib3-2.3.0-py3-none-any.whl.metadata (6.5 kB)\n",
      "Collecting certifi>=2017.4.17 (from requests->mllib)\n",
      "  Downloading certifi-2025.1.31-py3-none-any.whl.metadata (2.5 kB)\n",
      "Downloading requests-2.32.3-py3-none-any.whl (64 kB)\n",
      "Using cached setuptools-75.8.0-py3-none-any.whl (1.2 MB)\n",
      "Downloading certifi-2025.1.31-py3-none-any.whl (166 kB)\n",
      "Downloading charset_normalizer-3.4.1-cp312-cp312-win_amd64.whl (102 kB)\n",
      "Downloading idna-3.10-py3-none-any.whl (70 kB)\n",
      "Downloading urllib3-2.3.0-py3-none-any.whl (128 kB)\n",
      "Building wheels for collected packages: mllib\n",
      "  Building wheel for mllib (pyproject.toml): started\n",
      "  Building wheel for mllib (pyproject.toml): finished with status 'done'\n",
      "  Created wheel for mllib: filename=mllib-1.0.0a2-py3-none-any.whl size=12008 sha256=42c56f17d715687df06a1512eb78c92e91a7d447da1d2f3c4b84d737ed5e6333\n",
      "  Stored in directory: c:\\users\\hiche\\appdata\\local\\pip\\cache\\wheels\\87\\60\\14\\3185b3416fe9f1c536d9f9cfbe5cc081897aa4588a06104a33\n",
      "Successfully built mllib\n",
      "Installing collected packages: urllib3, setuptools, idna, charset-normalizer, certifi, requests, mllib\n",
      "Successfully installed certifi-2025.1.31 charset-normalizer-3.4.1 idna-3.10 mllib-1.0.0a2 requests-2.32.3 setuptools-75.8.0 urllib3-2.3.0\n",
      "Collecting pandas\n",
      "  Downloading pandas-2.2.3-cp312-cp312-win_amd64.whl.metadata (19 kB)\n",
      "Collecting numpy>=1.26.0 (from pandas)\n",
      "  Downloading numpy-2.2.2-cp312-cp312-win_amd64.whl.metadata (60 kB)\n",
      "Requirement already satisfied: python-dateutil>=2.8.2 in c:\\users\\hiche\\desktop\\spark\\venv\\lib\\site-packages (from pandas) (2.9.0.post0)\n",
      "Collecting pytz>=2020.1 (from pandas)\n",
      "  Downloading pytz-2025.1-py2.py3-none-any.whl.metadata (22 kB)\n",
      "Collecting tzdata>=2022.7 (from pandas)\n",
      "  Downloading tzdata-2025.1-py2.py3-none-any.whl.metadata (1.4 kB)\n",
      "Requirement already satisfied: six>=1.5 in c:\\users\\hiche\\desktop\\spark\\venv\\lib\\site-packages (from python-dateutil>=2.8.2->pandas) (1.17.0)\n",
      "Downloading pandas-2.2.3-cp312-cp312-win_amd64.whl (11.5 MB)\n",
      "   ---------------------------------------- 0.0/11.5 MB ? eta -:--:--\n",
      "   ---- ----------------------------------- 1.3/11.5 MB 8.4 MB/s eta 0:00:02\n",
      "   --------- ------------------------------ 2.6/11.5 MB 7.2 MB/s eta 0:00:02\n",
      "   ----------- ---------------------------- 3.4/11.5 MB 5.9 MB/s eta 0:00:02\n",
      "   ------------------ --------------------- 5.2/11.5 MB 7.1 MB/s eta 0:00:01\n",
      "   ------------------------ --------------- 7.1/11.5 MB 7.0 MB/s eta 0:00:01\n",
      "   --------------------------- ------------ 7.9/11.5 MB 6.9 MB/s eta 0:00:01\n",
      "   ------------------------------ --------- 8.9/11.5 MB 6.3 MB/s eta 0:00:01\n",
      "   -------------------------------- ------- 9.4/11.5 MB 5.9 MB/s eta 0:00:01\n",
      "   ------------------------------------ --- 10.5/11.5 MB 5.7 MB/s eta 0:00:01\n",
      "   ---------------------------------------  11.3/11.5 MB 5.6 MB/s eta 0:00:01\n",
      "   ---------------------------------------- 11.5/11.5 MB 5.5 MB/s eta 0:00:00\n",
      "Downloading numpy-2.2.2-cp312-cp312-win_amd64.whl (12.6 MB)\n",
      "   ---------------------------------------- 0.0/12.6 MB ? eta -:--:--\n",
      "   -- ------------------------------------- 0.8/12.6 MB 6.7 MB/s eta 0:00:02\n",
      "   ----- ---------------------------------- 1.8/12.6 MB 4.8 MB/s eta 0:00:03\n",
      "   --------- ------------------------------ 3.1/12.6 MB 5.1 MB/s eta 0:00:02\n",
      "   ------------- -------------------------- 4.2/12.6 MB 5.2 MB/s eta 0:00:02\n",
      "   -------------- ------------------------- 4.7/12.6 MB 5.2 MB/s eta 0:00:02\n",
      "   ------------------ --------------------- 5.8/12.6 MB 4.7 MB/s eta 0:00:02\n",
      "   ---------------------- ----------------- 7.1/12.6 MB 4.9 MB/s eta 0:00:02\n",
      "   ------------------------ --------------- 7.9/12.6 MB 4.8 MB/s eta 0:00:01\n",
      "   --------------------------- ------------ 8.7/12.6 MB 4.7 MB/s eta 0:00:01\n",
      "   ----------------------------- ---------- 9.4/12.6 MB 4.6 MB/s eta 0:00:01\n",
      "   ------------------------------- -------- 10.0/12.6 MB 4.5 MB/s eta 0:00:01\n",
      "   ---------------------------------- ----- 10.7/12.6 MB 4.3 MB/s eta 0:00:01\n",
      "   ----------------------------------- ---- 11.3/12.6 MB 4.3 MB/s eta 0:00:01\n",
      "   ------------------------------------- -- 11.8/12.6 MB 4.0 MB/s eta 0:00:01\n",
      "   ---------------------------------------  12.3/12.6 MB 4.0 MB/s eta 0:00:01\n",
      "   ---------------------------------------  12.3/12.6 MB 4.0 MB/s eta 0:00:01\n",
      "   ---------------------------------------  12.3/12.6 MB 4.0 MB/s eta 0:00:01\n",
      "   ---------------------------------------  12.3/12.6 MB 4.0 MB/s eta 0:00:01\n",
      "   ---------------------------------------- 12.6/12.6 MB 3.2 MB/s eta 0:00:00\n",
      "Downloading pytz-2025.1-py2.py3-none-any.whl (507 kB)\n",
      "Downloading tzdata-2025.1-py2.py3-none-any.whl (346 kB)\n",
      "Installing collected packages: pytz, tzdata, numpy, pandas\n",
      "Successfully installed numpy-2.2.2 pandas-2.2.3 pytz-2025.1 tzdata-2025.1\n",
      "Requirement already satisfied: numpy in c:\\users\\hiche\\desktop\\spark\\venv\\lib\\site-packages (2.2.2)\n"
     ]
    }
   ],
   "source": [
    "# Install dependent libraries\n",
    "!pip install mllib\n",
    "!pip install pandas\n",
    "!pip install numpy"
   ]
  },
  {
   "cell_type": "markdown",
   "id": "38b9331f-970e-4ee0-983e-a6bd7ba63f54",
   "metadata": {},
   "source": [
    "### Library Import"
   ]
  },
  {
   "cell_type": "code",
   "execution_count": 4,
   "id": "426448ca-b4e1-4201-919f-c247398f5629",
   "metadata": {},
   "outputs": [],
   "source": [
    "import os\n",
    "import pandas as pd\n",
    "import numpy as np\n",
    "\n",
    "from pyspark import SparkConf, SparkContext\n",
    "from pyspark.sql import SparkSession, SQLContext\n",
    "\n",
    "from pyspark.sql.types import *\n",
    "import pyspark.sql.functions as F\n",
    "from pyspark.sql.functions import udf, col\n",
    "\n",
    "from pyspark.ml.regression import LinearRegression\n",
    "from pyspark.mllib.evaluation import RegressionMetrics\n",
    "\n",
    "from pyspark.ml.tuning import ParamGridBuilder, CrossValidator, CrossValidatorModel\n",
    "from pyspark.ml.feature import VectorAssembler, StandardScaler\n",
    "from pyspark.ml.evaluation import RegressionEvaluator\n",
    "\n",
    "import seaborn as sns\n",
    "import matplotlib.pyplot as plt\n",
    "\n",
    "# Visualization\n",
    "from IPython.core.interactiveshell import InteractiveShell\n",
    "InteractiveShell.ast_node_interactivity = \"all\"\n",
    "\n",
    "pd.set_option('display.max_columns', 200)\n",
    "pd.set_option('display.max_colwidth', 400)\n",
    "\n",
    "from matplotlib import rcParams\n",
    "sns.set(context='notebook', style='whitegrid', rc={'figure.figsize': (18,4)})\n",
    "rcParams['figure.figsize'] = 18,4\n",
    "\n",
    "%matplotlib inline\n",
    "%config InlineBackend.figure_format = 'retina'\n",
    "\n",
    "# setting random seed for notebook reproducability\n",
    "rnd_seed=23\n",
    "np.random.seed=rnd_seed\n",
    "np.random.set_state=rnd_seed"
   ]
  },
  {
   "cell_type": "code",
   "execution_count": 3,
   "id": "17c80782",
   "metadata": {},
   "outputs": [
    {
     "name": "stdout",
     "output_type": "stream",
     "text": [
      "Collecting seaborn\n",
      "  Downloading seaborn-0.13.2-py3-none-any.whl.metadata (5.4 kB)\n",
      "Requirement already satisfied: numpy!=1.24.0,>=1.20 in c:\\users\\hiche\\desktop\\spark\\venv\\lib\\site-packages (from seaborn) (2.2.2)\n",
      "Requirement already satisfied: pandas>=1.2 in c:\\users\\hiche\\desktop\\spark\\venv\\lib\\site-packages (from seaborn) (2.2.3)\n",
      "Collecting matplotlib!=3.6.1,>=3.4 (from seaborn)\n",
      "  Downloading matplotlib-3.10.0-cp312-cp312-win_amd64.whl.metadata (11 kB)\n",
      "Collecting contourpy>=1.0.1 (from matplotlib!=3.6.1,>=3.4->seaborn)\n",
      "  Downloading contourpy-1.3.1-cp312-cp312-win_amd64.whl.metadata (5.4 kB)\n",
      "Collecting cycler>=0.10 (from matplotlib!=3.6.1,>=3.4->seaborn)\n",
      "  Downloading cycler-0.12.1-py3-none-any.whl.metadata (3.8 kB)\n",
      "Collecting fonttools>=4.22.0 (from matplotlib!=3.6.1,>=3.4->seaborn)\n",
      "  Downloading fonttools-4.56.0-cp312-cp312-win_amd64.whl.metadata (103 kB)\n",
      "Collecting kiwisolver>=1.3.1 (from matplotlib!=3.6.1,>=3.4->seaborn)\n",
      "  Downloading kiwisolver-1.4.8-cp312-cp312-win_amd64.whl.metadata (6.3 kB)\n",
      "Requirement already satisfied: packaging>=20.0 in c:\\users\\hiche\\desktop\\spark\\venv\\lib\\site-packages (from matplotlib!=3.6.1,>=3.4->seaborn) (24.2)\n",
      "Collecting pillow>=8 (from matplotlib!=3.6.1,>=3.4->seaborn)\n",
      "  Downloading pillow-11.1.0-cp312-cp312-win_amd64.whl.metadata (9.3 kB)\n",
      "Collecting pyparsing>=2.3.1 (from matplotlib!=3.6.1,>=3.4->seaborn)\n",
      "  Downloading pyparsing-3.2.1-py3-none-any.whl.metadata (5.0 kB)\n",
      "Requirement already satisfied: python-dateutil>=2.7 in c:\\users\\hiche\\desktop\\spark\\venv\\lib\\site-packages (from matplotlib!=3.6.1,>=3.4->seaborn) (2.9.0.post0)\n",
      "Requirement already satisfied: pytz>=2020.1 in c:\\users\\hiche\\desktop\\spark\\venv\\lib\\site-packages (from pandas>=1.2->seaborn) (2025.1)\n",
      "Requirement already satisfied: tzdata>=2022.7 in c:\\users\\hiche\\desktop\\spark\\venv\\lib\\site-packages (from pandas>=1.2->seaborn) (2025.1)\n",
      "Requirement already satisfied: six>=1.5 in c:\\users\\hiche\\desktop\\spark\\venv\\lib\\site-packages (from python-dateutil>=2.7->matplotlib!=3.6.1,>=3.4->seaborn) (1.17.0)\n",
      "Downloading seaborn-0.13.2-py3-none-any.whl (294 kB)\n",
      "Downloading matplotlib-3.10.0-cp312-cp312-win_amd64.whl (8.0 MB)\n",
      "   ---------------------------------------- 0.0/8.0 MB ? eta -:--:--\n",
      "   ------ --------------------------------- 1.3/8.0 MB 6.7 MB/s eta 0:00:02\n",
      "   ------ --------------------------------- 1.3/8.0 MB 6.7 MB/s eta 0:00:02\n",
      "   ------- -------------------------------- 1.6/8.0 MB 2.3 MB/s eta 0:00:03\n",
      "   ------- -------------------------------- 1.6/8.0 MB 2.3 MB/s eta 0:00:03\n",
      "   --------- ------------------------------ 1.8/8.0 MB 1.6 MB/s eta 0:00:04\n",
      "   --------- ------------------------------ 1.8/8.0 MB 1.6 MB/s eta 0:00:04\n",
      "   ---------- ----------------------------- 2.1/8.0 MB 1.4 MB/s eta 0:00:05\n",
      "   ----------- ---------------------------- 2.4/8.0 MB 1.3 MB/s eta 0:00:05\n",
      "   ------------- -------------------------- 2.6/8.0 MB 1.4 MB/s eta 0:00:04\n",
      "   ------------- -------------------------- 2.6/8.0 MB 1.4 MB/s eta 0:00:04\n",
      "   ------------- -------------------------- 2.6/8.0 MB 1.4 MB/s eta 0:00:04\n",
      "   --------------- ------------------------ 3.1/8.0 MB 1.2 MB/s eta 0:00:05\n",
      "   --------------- ------------------------ 3.1/8.0 MB 1.2 MB/s eta 0:00:05\n",
      "   --------------- ------------------------ 3.1/8.0 MB 1.2 MB/s eta 0:00:05\n",
      "   ---------------- ----------------------- 3.4/8.0 MB 1.1 MB/s eta 0:00:05\n",
      "   ---------------- ----------------------- 3.4/8.0 MB 1.1 MB/s eta 0:00:05\n",
      "   ---------------- ----------------------- 3.4/8.0 MB 1.1 MB/s eta 0:00:05\n",
      "   ------------------ --------------------- 3.7/8.0 MB 965.1 kB/s eta 0:00:05\n",
      "   -------------------- ------------------- 4.2/8.0 MB 1.0 MB/s eta 0:00:04\n",
      "   ---------------------- ----------------- 4.5/8.0 MB 1.1 MB/s eta 0:00:04\n",
      "   ------------------------ --------------- 5.0/8.0 MB 1.1 MB/s eta 0:00:03\n",
      "   ------------------------ --------------- 5.0/8.0 MB 1.1 MB/s eta 0:00:03\n",
      "   ------------------------ --------------- 5.0/8.0 MB 1.1 MB/s eta 0:00:03\n",
      "   ------------------------ --------------- 5.0/8.0 MB 1.1 MB/s eta 0:00:03\n",
      "   ------------------------ --------------- 5.0/8.0 MB 1.1 MB/s eta 0:00:03\n",
      "   -------------------------- ------------- 5.2/8.0 MB 954.3 kB/s eta 0:00:03\n",
      "   ---------------------------- ----------- 5.8/8.0 MB 1.0 MB/s eta 0:00:03\n",
      "   ---------------------------- ----------- 5.8/8.0 MB 1.0 MB/s eta 0:00:03\n",
      "   ---------------------------- ----------- 5.8/8.0 MB 1.0 MB/s eta 0:00:03\n",
      "   ---------------------------- ----------- 5.8/8.0 MB 1.0 MB/s eta 0:00:03\n",
      "   ----------------------------- ---------- 6.0/8.0 MB 918.2 kB/s eta 0:00:03\n",
      "   ----------------------------- ---------- 6.0/8.0 MB 918.2 kB/s eta 0:00:03\n",
      "   -------------------------------- ------- 6.6/8.0 MB 940.7 kB/s eta 0:00:02\n",
      "   ----------------------------------- ---- 7.1/8.0 MB 984.6 kB/s eta 0:00:01\n",
      "   ------------------------------------- -- 7.6/8.0 MB 1.0 MB/s eta 0:00:01\n",
      "   ---------------------------------------  7.9/8.0 MB 1.0 MB/s eta 0:00:01\n",
      "   ---------------------------------------- 8.0/8.0 MB 1.0 MB/s eta 0:00:00\n",
      "Downloading contourpy-1.3.1-cp312-cp312-win_amd64.whl (220 kB)\n",
      "Downloading cycler-0.12.1-py3-none-any.whl (8.3 kB)\n",
      "Downloading fonttools-4.56.0-cp312-cp312-win_amd64.whl (2.2 MB)\n",
      "   ---------------------------------------- 0.0/2.2 MB ? eta -:--:--\n",
      "   --------- ------------------------------ 0.5/2.2 MB 3.4 MB/s eta 0:00:01\n",
      "   ------------------- -------------------- 1.0/2.2 MB 3.1 MB/s eta 0:00:01\n",
      "   --------------------------------- ------ 1.8/2.2 MB 3.2 MB/s eta 0:00:01\n",
      "   ---------------------------------------- 2.2/2.2 MB 3.3 MB/s eta 0:00:00\n",
      "Downloading kiwisolver-1.4.8-cp312-cp312-win_amd64.whl (71 kB)\n",
      "Downloading pillow-11.1.0-cp312-cp312-win_amd64.whl (2.6 MB)\n",
      "   ---------------------------------------- 0.0/2.6 MB ? eta -:--:--\n",
      "   ----------- ---------------------------- 0.8/2.6 MB 4.2 MB/s eta 0:00:01\n",
      "   ----------------------- ---------------- 1.6/2.6 MB 4.0 MB/s eta 0:00:01\n",
      "   ----------------------------------- ---- 2.4/2.6 MB 4.2 MB/s eta 0:00:01\n",
      "   ----------------------------------- ---- 2.4/2.6 MB 4.2 MB/s eta 0:00:01\n",
      "   ---------------------------------------- 2.6/2.6 MB 3.0 MB/s eta 0:00:00\n",
      "Downloading pyparsing-3.2.1-py3-none-any.whl (107 kB)\n",
      "Installing collected packages: pyparsing, pillow, kiwisolver, fonttools, cycler, contourpy, matplotlib, seaborn\n",
      "Successfully installed contourpy-1.3.1 cycler-0.12.1 fonttools-4.56.0 kiwisolver-1.4.8 matplotlib-3.10.0 pillow-11.1.0 pyparsing-3.2.1 seaborn-0.13.2\n"
     ]
    }
   ],
   "source": [
    "!pip install seaborn\n",
    "\n"
   ]
  },
  {
   "cell_type": "code",
   "execution_count": 11,
   "id": "e89fd222",
   "metadata": {},
   "outputs": [
    {
     "name": "stdout",
     "output_type": "stream",
     "text": [
      "Found existing installation: pyspark 3.5.4\n",
      "Uninstalling pyspark-3.5.4:\n",
      "  Successfully uninstalled pyspark-3.5.4\n"
     ]
    }
   ],
   "source": [
    "!pip uninstall pyspark -y\n",
    "\n",
    "\n"
   ]
  },
  {
   "cell_type": "code",
   "execution_count": 12,
   "id": "cb328ea5",
   "metadata": {},
   "outputs": [
    {
     "name": "stdout",
     "output_type": "stream",
     "text": [
      "Collecting pyspark\n",
      "  Using cached pyspark-3.5.4-py2.py3-none-any.whl\n",
      "Requirement already satisfied: py4j==0.10.9.7 in c:\\users\\hiche\\desktop\\spark\\venv\\lib\\site-packages (from pyspark) (0.10.9.7)\n",
      "Installing collected packages: pyspark\n",
      "Successfully installed pyspark-3.5.4\n"
     ]
    }
   ],
   "source": [
    "!pip install --upgrade pyspark\n"
   ]
  },
  {
   "cell_type": "code",
   "execution_count": 1,
   "id": "e545f101",
   "metadata": {},
   "outputs": [
    {
     "name": "stdout",
     "output_type": "stream",
     "text": [
      "3.5.4\n"
     ]
    }
   ],
   "source": [
    "import pyspark\n",
    "print(pyspark.__version__)\n"
   ]
  },
  {
   "cell_type": "markdown",
   "id": "dfd5a1cd-a665-4e1c-bc4f-8a86d7959eee",
   "metadata": {},
   "source": [
    "### Spark Session Creation with SparkSQL"
   ]
  },
  {
   "cell_type": "code",
   "execution_count": 5,
   "id": "8b39c3b2-614c-4966-b653-799988300508",
   "metadata": {},
   "outputs": [
    {
     "name": "stderr",
     "output_type": "stream",
     "text": [
      "c:\\Users\\hiche\\Desktop\\Spark\\venv\\Lib\\site-packages\\pyspark\\sql\\context.py:113: FutureWarning: Deprecated in 3.0.0. Use SparkSession.builder.getOrCreate() instead.\n",
      "  warnings.warn(\n"
     ]
    },
    {
     "data": {
      "text/plain": [
       "[Row(long=-122.2300033569336, lat=37.880001068115234, medage=41.0, totrooms=880.0, totbdrms=129.0, pop=322.0, houshlds=126.0, medinc=8.325200080871582, medhv=452600.0),\n",
       " Row(long=-122.22000122070312, lat=37.86000061035156, medage=21.0, totrooms=7099.0, totbdrms=1106.0, pop=2401.0, houshlds=1138.0, medinc=8.301400184631348, medhv=358500.0),\n",
       " Row(long=-122.23999786376953, lat=37.849998474121094, medage=52.0, totrooms=1467.0, totbdrms=190.0, pop=496.0, houshlds=177.0, medinc=7.257400035858154, medhv=352100.0),\n",
       " Row(long=-122.25, lat=37.849998474121094, medage=52.0, totrooms=1274.0, totbdrms=235.0, pop=558.0, houshlds=219.0, medinc=5.643099784851074, medhv=341300.0),\n",
       " Row(long=-122.25, lat=37.849998474121094, medage=52.0, totrooms=1627.0, totbdrms=280.0, pop=565.0, houshlds=259.0, medinc=3.8461999893188477, medhv=342200.0)]"
      ]
     },
     "execution_count": 5,
     "metadata": {},
     "output_type": "execute_result"
    }
   ],
   "source": [
    "# Spark Session Creation\n",
    "\n",
    "ss = SparkSession.builder.master(\"local[4]\").appName(\"Linear-Regression\").getOrCreate()\n",
    "sc = ss.sparkContext\n",
    "sqlContext = SQLContext(sc)\n",
    "\n",
    "# Load data from file into dataframe\n",
    "HOUSING_DATA = 'input/cal_housing.data'\n",
    "# define the schema, corresponding to a line in the csv data file.\n",
    "schema = StructType([\n",
    "    StructField(\"long\", FloatType(), nullable=True),\n",
    "    StructField(\"lat\", FloatType(), nullable=True),\n",
    "    StructField(\"medage\", FloatType(), nullable=True),\n",
    "    StructField(\"totrooms\", FloatType(), nullable=True),\n",
    "    StructField(\"totbdrms\", FloatType(), nullable=True),\n",
    "    StructField(\"pop\", FloatType(), nullable=True),\n",
    "    StructField(\"houshlds\", FloatType(), nullable=True),\n",
    "    StructField(\"medinc\", FloatType(), nullable=True),\n",
    "    StructField(\"medhv\", FloatType(), nullable=True)]\n",
    ")\n",
    "# Load housing data\n",
    "housing_df = ss.read.csv(path=HOUSING_DATA, schema=schema).cache()\n",
    "\n",
    "# Inspect first five rows\n",
    "housing_df.take(5)"
   ]
  },
  {
   "cell_type": "code",
   "execution_count": 4,
   "id": "85a1ebc4-4abf-4d74-9c66-93e76a590434",
   "metadata": {},
   "outputs": [],
   "source": [
    "### Loaded Data View"
   ]
  },
  {
   "cell_type": "code",
   "execution_count": 6,
   "id": "ab2aac51-0742-49d6-bc04-0d92f4165751",
   "metadata": {},
   "outputs": [
    {
     "data": {
      "text/plain": [
       "['long',\n",
       " 'lat',\n",
       " 'medage',\n",
       " 'totrooms',\n",
       " 'totbdrms',\n",
       " 'pop',\n",
       " 'houshlds',\n",
       " 'medinc',\n",
       " 'medhv']"
      ]
     },
     "execution_count": 6,
     "metadata": {},
     "output_type": "execute_result"
    },
    {
     "name": "stdout",
     "output_type": "stream",
     "text": [
      "root\n",
      " |-- long: float (nullable = true)\n",
      " |-- lat: float (nullable = true)\n",
      " |-- medage: float (nullable = true)\n",
      " |-- totrooms: float (nullable = true)\n",
      " |-- totbdrms: float (nullable = true)\n",
      " |-- pop: float (nullable = true)\n",
      " |-- houshlds: float (nullable = true)\n",
      " |-- medinc: float (nullable = true)\n",
      " |-- medhv: float (nullable = true)\n",
      "\n",
      "+------+--------+\n",
      "|   pop|totbdrms|\n",
      "+------+--------+\n",
      "| 322.0|   129.0|\n",
      "|2401.0|  1106.0|\n",
      "| 496.0|   190.0|\n",
      "| 558.0|   235.0|\n",
      "| 565.0|   280.0|\n",
      "| 413.0|   213.0|\n",
      "|1094.0|   489.0|\n",
      "|1157.0|   687.0|\n",
      "|1206.0|   665.0|\n",
      "|1551.0|   707.0|\n",
      "+------+--------+\n",
      "only showing top 10 rows\n",
      "\n",
      "+------+-----+\n",
      "|medage|count|\n",
      "+------+-----+\n",
      "|  52.0| 1273|\n",
      "|  51.0|   48|\n",
      "|  50.0|  136|\n",
      "|  49.0|  134|\n",
      "|  48.0|  177|\n",
      "|  47.0|  198|\n",
      "|  46.0|  245|\n",
      "|  45.0|  294|\n",
      "|  44.0|  356|\n",
      "|  43.0|  353|\n",
      "+------+-----+\n",
      "only showing top 10 rows\n",
      "\n"
     ]
    }
   ],
   "source": [
    "# show the dataframe columns\n",
    "housing_df.columns\n",
    "\n",
    "# show the schema of the dataframe\n",
    "housing_df.printSchema()\n",
    "\n",
    "# run a sample selection\n",
    "housing_df.select('pop','totbdrms').show(10)\n",
    "\n",
    "# group by housingmedianage and see the distribution\n",
    "result_df = housing_df.groupBy(\"medage\").count().sort(\"medage\", ascending=False)\n",
    "\n",
    "result_df.show(10)"
   ]
  },
  {
   "cell_type": "markdown",
   "id": "8bc25455-66f4-4bac-9c94-fa9f99cbfe2a",
   "metadata": {},
   "source": [
    "### Summary Statistics\n",
    "\n",
    "Spark DataFrames include some built-in functions for statistical processing. The describe() function performs summary statistics calculations on all numeric columns and returns them as a DataFrame."
   ]
  },
  {
   "cell_type": "code",
   "execution_count": null,
   "id": "59996823-545b-4cf3-bccf-a3053ecddee0",
   "metadata": {},
   "outputs": [
    {
     "name": "stdout",
     "output_type": "stream",
     "text": [
      "+-------+-------+---------+--------+---------+--------+-------+-----------+\n",
      "|summary| medage| totrooms|totbdrms|      pop|houshlds| medinc|      medhv|\n",
      "+-------+-------+---------+--------+---------+--------+-------+-----------+\n",
      "|  count|20640.0|  20640.0| 20640.0|  20640.0| 20640.0|20640.0|    20640.0|\n",
      "|   mean|28.6395|2635.7631| 537.898|1425.4767|499.5397| 3.8707|206855.8169|\n",
      "| stddev|12.5856|2181.6153|421.2479|1132.4621|382.3298| 1.8998|115395.6159|\n",
      "|    min|    1.0|      2.0|     1.0|      3.0|     1.0| 0.4999|    14999.0|\n",
      "|    max|   52.0|  39320.0|  6445.0|  35682.0|  6082.0|15.0001|   500001.0|\n",
      "+-------+-------+---------+--------+---------+--------+-------+-----------+\n",
      "\n"
     ]
    }
   ],
   "source": [
    "# describe() function to generate summary statistics for all numeric columns in the DataFrame housing_df\n",
    "(housing_df.describe().select(\n",
    "                    \"summary\",\n",
    "                    F.round(\"medage\", 4).alias(\"medage\"), # rounds numbers to 4 decimal places.\n",
    "                    F.round(\"totrooms\", 4).alias(\"totrooms\"),\n",
    "                    F.round(\"totbdrms\", 4).alias(\"totbdrms\"),\n",
    "                    F.round(\"pop\", 4).alias(\"pop\"),\n",
    "                    F.round(\"houshlds\", 4).alias(\"houshlds\"),\n",
    "                    F.round(\"medinc\", 4).alias(\"medinc\"),\n",
    "                    F.round(\"medhv\", 4).alias(\"medhv\"))\n",
    "                    .show()) # The show() function prints the summary statistics as a table."
   ]
  },
  {
   "cell_type": "markdown",
   "id": "08ffc9b4-e5a7-4e00-8070-0dcedf295154",
   "metadata": {},
   "source": [
    "Look at the minimum and maximum values of all the (numerical) attributes. We see that multiple attributes have a wide range of values: we will need to normalize your dataset.\n",
    "\n",
    "### EXPLANATION\n",
    "Wide ranges can negatively impact machine learning models, so normalization (scaling values to a smaller range) is necessary.\n",
    "\n",
    "### Data Preprocessing\n",
    "\n",
    "With all this information that we gathered from our small exploratory data analysis, we know enough to preprocess our data to feed it to the model.\n",
    "\n",
    "1. we shouldn't care about missing values; all zero values have been excluded from the data set.\n",
    "2. We should probably standardize our data, as we have seen that the range of minimum and maximum values is quite big.\n",
    "3. There are possibly some additional attributes that we could add, such as a feature that registers the number of bedrooms per room or the rooms per household.\n",
    "4. Our dependent variable is also quite big; To make our life easier, we'll have to adjust the values slightly.\n",
    "\n",
    "### EXPLANATION\n",
    "Standardization of Data\n",
    "\n",
    "Because different attributes have widely varying scales, standardization (transforming values to have a mean of 0 and a standard deviation of 1) will help improve model performance.\n",
    "\n",
    "### Preprocessing The Target Values\n",
    "First, let's start with the medianHouseValue, our dependent variable. To facilitate our working with the target values, we will express the house values in units of 100,000. That means that a target such as 452600.000000 should become 4.526:\n",
    "\n",
    "### EXPLANATION:\n",
    "Explanation of Preprocessing the Target Values\n",
    "This section describes how to adjust the target variable (medianHouseValue) in the dataset to make it easier to work with.\n",
    "\n",
    "Why Modify the Target Variable?\n",
    "The median house value (medhv) has large values (e.g., 452600).\n",
    "To make computations simpler and more interpretable, the values are scaled down by dividing by 100,000.\n",
    "Example transformation:\n",
    "452600 → 4.526\n",
    "358500 → 3.585\n",
    "\n",
    "### KEY TAKEAWAYS\n",
    "Scaling the target variable helps models perform better by keeping values within a smaller range.\n",
    "It doesn’t change the relationships between values, just makes them easier to handle.\n",
    "This preprocessing step is common in machine learning to improve numerical stability."
   ]
  },
  {
   "cell_type": "code",
   "execution_count": 7,
   "id": "c3416be8-a877-44f2-8a66-3793ab1e6b6a",
   "metadata": {},
   "outputs": [
    {
     "name": "stdout",
     "output_type": "stream",
     "text": [
      "+-------+-----+------+--------+--------+------+--------+------+-----+\n",
      "|   long|  lat|medage|totrooms|totbdrms|   pop|houshlds|medinc|medhv|\n",
      "+-------+-----+------+--------+--------+------+--------+------+-----+\n",
      "|-122.23|37.88|  41.0|   880.0|   129.0| 322.0|   126.0|8.3252|4.526|\n",
      "|-122.22|37.86|  21.0|  7099.0|  1106.0|2401.0|  1138.0|8.3014|3.585|\n",
      "+-------+-----+------+--------+--------+------+--------+------+-----+\n",
      "only showing top 2 rows\n",
      "\n"
     ]
    }
   ],
   "source": [
    "# Adjust the values of `medianHouseValue`\n",
    "housing_df = housing_df.withColumn(\"medhv\", col(\"medhv\")/100000)\n",
    "housing_df.show(2)"
   ]
  },
  {
   "cell_type": "markdown",
   "id": "afc98707-cd9f-49ab-9251-1c76675eaf83",
   "metadata": {},
   "source": [
    "### Feature Engineering / Selection from Sample\n",
    "\n",
    "Now that we have adjusted the values in medianHouseValue, we will now add the following columns to the data set:\n",
    "\n",
    "1. Rooms per household which refers to the number of rooms in households per block group;\n",
    "2. Population per household, which basically gives us an indication of how many people live in households per block group; And\n",
    "3. Bedrooms per room which will give us an idea about how many rooms are bedrooms per block group;\n",
    "\n",
    "As we're working with DataFrames, we can best use the select() method to select the columns that we're going to be working with, namely totalRooms, households, and population. Additionally, we have to indicate that we're working with columns by adding the col() function to our code. Otherwise, we won't be able to do element-wise operations like the division that we have in mind for these three variables:\n",
    "\n",
    "### Key Takeaways:\n",
    "Feature engineering helps extract meaningful insights from raw data.\n",
    "These new features can improve machine learning model performance.\n",
    "\n",
    "### Explanation:\n",
    "Feature Engineering / Selection from Sample\n",
    "This section explains how to create new features from existing columns to make the data more informative for modeling."
   ]
  },
  {
   "cell_type": "code",
   "execution_count": null,
   "id": "0af2ae1d-01c7-41e8-a5ec-596a9903c43d",
   "metadata": {},
   "outputs": [
    {
     "data": {
      "text/plain": [
       "['long',\n",
       " 'lat',\n",
       " 'medage',\n",
       " 'totrooms',\n",
       " 'totbdrms',\n",
       " 'pop',\n",
       " 'houshlds',\n",
       " 'medinc',\n",
       " 'medhv']"
      ]
     },
     "execution_count": 8,
     "metadata": {},
     "output_type": "execute_result"
    },
    {
     "name": "stdout",
     "output_type": "stream",
     "text": [
      "+-------+-----+------+--------+--------+------+--------+------+-----+--------+--------+----------+\n",
      "|   long|  lat|medage|totrooms|totbdrms|   pop|houshlds|medinc|medhv|rmsperhh|popperhh|bdrmsperrm|\n",
      "+-------+-----+------+--------+--------+------+--------+------+-----+--------+--------+----------+\n",
      "|-122.23|37.88|  41.0|   880.0|   129.0| 322.0|   126.0|8.3252|4.526|    6.98|    2.56|      0.15|\n",
      "|-122.22|37.86|  21.0|  7099.0|  1106.0|2401.0|  1138.0|8.3014|3.585|    6.24|    2.11|      0.16|\n",
      "|-122.24|37.85|  52.0|  1467.0|   190.0| 496.0|   177.0|7.2574|3.521|    8.29|     2.8|      0.13|\n",
      "|-122.25|37.85|  52.0|  1274.0|   235.0| 558.0|   219.0|5.6431|3.413|    5.82|    2.55|      0.18|\n",
      "|-122.25|37.85|  52.0|  1627.0|   280.0| 565.0|   259.0|3.8462|3.422|    6.28|    2.18|      0.17|\n",
      "+-------+-----+------+--------+--------+------+--------+------+-----+--------+--------+----------+\n",
      "only showing top 5 rows\n",
      "\n"
     ]
    }
   ],
   "source": [
    "housing_df.columns\n",
    "\n",
    "# Add the new columns to `df`\n",
    "# Computes Total number of rooms per household and rounds to 2 decimal places.\n",
    "housing_df = (housing_df.withColumn(\"rmsperhh\", F.round(col(\"totrooms\")/col(\"houshlds\"), 2))\n",
    "                       .withColumn(\"popperhh\", F.round(col(\"pop\")/col(\"houshlds\"), 2))#Computes Total number of population per household.\n",
    "                       .withColumn(\"bdrmsperrm\", F.round(col(\"totbdrms\")/col(\"totrooms\"), 2)))#Computes how many bedrooms exist per total number of room.\n",
    "\n",
    "# Inspect the result\n",
    "housing_df.show(5)"
   ]
  },
  {
   "cell_type": "markdown",
   "id": "8d1647ae-75ee-40f1-ba6d-c21b1d0ca240",
   "metadata": {},
   "source": [
    "We can see that, for the first row, there are about 6.98 rooms per household, the households in the block group consist of about 2.5 people and the amount of bedrooms is quite low with 0.14:\n",
    "\n",
    "Since we don't want to necessarily standardize our target values, we'll want to make sure to isolate those in our data set. Note also that this is the time to leave out variables that we might not want to consider in our analysis. In this case, let's leave out variables such as longitude, latitude, housingMedianAge and totalRooms.\n",
    "\n",
    "In this case, we will use the select() method and passing the column names in the order that is more appropriate. In this case, the target variable medianHouseValue is put first, so that it won't be affected by the standardization.\n",
    "\n",
    "### Explanation of the following code:\n",
    "Final Column Selection and Feature Extraction\n",
    "This step reorders the dataset and selects the most relevant features for training a machine learning model."
   ]
  },
  {
   "cell_type": "code",
   "execution_count": 7,
   "id": "f43663e3-a106-40fb-b743-7a99be0db67f",
   "metadata": {},
   "outputs": [
    {
     "ename": "AnalysisException",
     "evalue": "[UNRESOLVED_COLUMN.WITH_SUGGESTION] A column or function parameter with name `rmsperhh` cannot be resolved. Did you mean one of the following? [`medhv`, `medage`, `medinc`, `pop`, `lat`].;\n'Project [medhv#8, medage#2, totbdrms#4, pop#5, houshlds#6, medinc#7, 'rmsperhh, 'popperhh, 'bdrmsperrm]\n+- Relation [long#0,lat#1,medage#2,totrooms#3,totbdrms#4,pop#5,houshlds#6,medinc#7,medhv#8] csv\n",
     "output_type": "error",
     "traceback": [
      "\u001b[1;31m---------------------------------------------------------------------------\u001b[0m",
      "\u001b[1;31mAnalysisException\u001b[0m                         Traceback (most recent call last)",
      "Cell \u001b[1;32mIn[7], line 2\u001b[0m\n\u001b[0;32m      1\u001b[0m \u001b[38;5;66;03m# Re-order and select columns\u001b[39;00m\n\u001b[1;32m----> 2\u001b[0m housing_df \u001b[38;5;241m=\u001b[39m \u001b[43mhousing_df\u001b[49m\u001b[38;5;241;43m.\u001b[39;49m\u001b[43mselect\u001b[49m\u001b[43m(\u001b[49m\u001b[38;5;124;43m\"\u001b[39;49m\u001b[38;5;124;43mmedhv\u001b[39;49m\u001b[38;5;124;43m\"\u001b[39;49m\u001b[43m,\u001b[49m\u001b[43m \u001b[49m\n\u001b[0;32m      3\u001b[0m \u001b[43m                               \u001b[49m\u001b[38;5;124;43m\"\u001b[39;49m\u001b[38;5;124;43mmedage\u001b[39;49m\u001b[38;5;124;43m\"\u001b[39;49m\u001b[43m,\u001b[49m\n\u001b[0;32m      4\u001b[0m \u001b[43m                              \u001b[49m\u001b[38;5;124;43m\"\u001b[39;49m\u001b[38;5;124;43mtotbdrms\u001b[39;49m\u001b[38;5;124;43m\"\u001b[39;49m\u001b[43m,\u001b[49m\u001b[43m \u001b[49m\n\u001b[0;32m      5\u001b[0m \u001b[43m                              \u001b[49m\u001b[38;5;124;43m\"\u001b[39;49m\u001b[38;5;124;43mpop\u001b[39;49m\u001b[38;5;124;43m\"\u001b[39;49m\u001b[43m,\u001b[49m\u001b[43m \u001b[49m\n\u001b[0;32m      6\u001b[0m \u001b[43m                              \u001b[49m\u001b[38;5;124;43m\"\u001b[39;49m\u001b[38;5;124;43mhoushlds\u001b[39;49m\u001b[38;5;124;43m\"\u001b[39;49m\u001b[43m,\u001b[49m\u001b[43m \u001b[49m\n\u001b[0;32m      7\u001b[0m \u001b[43m                              \u001b[49m\u001b[38;5;124;43m\"\u001b[39;49m\u001b[38;5;124;43mmedinc\u001b[39;49m\u001b[38;5;124;43m\"\u001b[39;49m\u001b[43m,\u001b[49m\u001b[43m \u001b[49m\n\u001b[0;32m      8\u001b[0m \u001b[43m                              \u001b[49m\u001b[38;5;124;43m\"\u001b[39;49m\u001b[38;5;124;43mrmsperhh\u001b[39;49m\u001b[38;5;124;43m\"\u001b[39;49m\u001b[43m,\u001b[49m\u001b[43m \u001b[49m\n\u001b[0;32m      9\u001b[0m \u001b[43m                              \u001b[49m\u001b[38;5;124;43m\"\u001b[39;49m\u001b[38;5;124;43mpopperhh\u001b[39;49m\u001b[38;5;124;43m\"\u001b[39;49m\u001b[43m,\u001b[49m\u001b[43m \u001b[49m\n\u001b[0;32m     10\u001b[0m \u001b[43m                              \u001b[49m\u001b[38;5;124;43m\"\u001b[39;49m\u001b[38;5;124;43mbdrmsperrm\u001b[39;49m\u001b[38;5;124;43m\"\u001b[39;49m\u001b[43m)\u001b[49m\n\u001b[0;32m     12\u001b[0m \u001b[38;5;66;03m#### Feature Extraction\u001b[39;00m\n\u001b[0;32m     14\u001b[0m featureCols \u001b[38;5;241m=\u001b[39m [\u001b[38;5;124m\"\u001b[39m\u001b[38;5;124mtotbdrms\u001b[39m\u001b[38;5;124m\"\u001b[39m, \u001b[38;5;124m\"\u001b[39m\u001b[38;5;124mpop\u001b[39m\u001b[38;5;124m\"\u001b[39m, \u001b[38;5;124m\"\u001b[39m\u001b[38;5;124mhoushlds\u001b[39m\u001b[38;5;124m\"\u001b[39m, \u001b[38;5;124m\"\u001b[39m\u001b[38;5;124mmedinc\u001b[39m\u001b[38;5;124m\"\u001b[39m, \u001b[38;5;124m\"\u001b[39m\u001b[38;5;124mrmsperhh\u001b[39m\u001b[38;5;124m\"\u001b[39m, \u001b[38;5;124m\"\u001b[39m\u001b[38;5;124mpopperhh\u001b[39m\u001b[38;5;124m\"\u001b[39m, \u001b[38;5;124m\"\u001b[39m\u001b[38;5;124mbdrmsperrm\u001b[39m\u001b[38;5;124m\"\u001b[39m, \u001b[38;5;124m\"\u001b[39m\u001b[38;5;124mmedage\u001b[39m\u001b[38;5;124m\"\u001b[39m]\n",
      "File \u001b[1;32mc:\\Users\\hiche\\Desktop\\Spark\\venv\\Lib\\site-packages\\pyspark\\sql\\dataframe.py:3229\u001b[0m, in \u001b[0;36mDataFrame.select\u001b[1;34m(self, *cols)\u001b[0m\n\u001b[0;32m   3184\u001b[0m \u001b[38;5;28;01mdef\u001b[39;00m\u001b[38;5;250m \u001b[39m\u001b[38;5;21mselect\u001b[39m(\u001b[38;5;28mself\u001b[39m, \u001b[38;5;241m*\u001b[39mcols: \u001b[38;5;124m\"\u001b[39m\u001b[38;5;124mColumnOrName\u001b[39m\u001b[38;5;124m\"\u001b[39m) \u001b[38;5;241m-\u001b[39m\u001b[38;5;241m>\u001b[39m \u001b[38;5;124m\"\u001b[39m\u001b[38;5;124mDataFrame\u001b[39m\u001b[38;5;124m\"\u001b[39m:  \u001b[38;5;66;03m# type: ignore[misc]\u001b[39;00m\n\u001b[0;32m   3185\u001b[0m \u001b[38;5;250m    \u001b[39m\u001b[38;5;124;03m\"\"\"Projects a set of expressions and returns a new :class:`DataFrame`.\u001b[39;00m\n\u001b[0;32m   3186\u001b[0m \n\u001b[0;32m   3187\u001b[0m \u001b[38;5;124;03m    .. versionadded:: 1.3.0\u001b[39;00m\n\u001b[1;32m   (...)\u001b[0m\n\u001b[0;32m   3227\u001b[0m \u001b[38;5;124;03m    +-----+---+\u001b[39;00m\n\u001b[0;32m   3228\u001b[0m \u001b[38;5;124;03m    \"\"\"\u001b[39;00m\n\u001b[1;32m-> 3229\u001b[0m     jdf \u001b[38;5;241m=\u001b[39m \u001b[38;5;28;43mself\u001b[39;49m\u001b[38;5;241;43m.\u001b[39;49m\u001b[43m_jdf\u001b[49m\u001b[38;5;241;43m.\u001b[39;49m\u001b[43mselect\u001b[49m\u001b[43m(\u001b[49m\u001b[38;5;28;43mself\u001b[39;49m\u001b[38;5;241;43m.\u001b[39;49m\u001b[43m_jcols\u001b[49m\u001b[43m(\u001b[49m\u001b[38;5;241;43m*\u001b[39;49m\u001b[43mcols\u001b[49m\u001b[43m)\u001b[49m\u001b[43m)\u001b[49m\n\u001b[0;32m   3230\u001b[0m     \u001b[38;5;28;01mreturn\u001b[39;00m DataFrame(jdf, \u001b[38;5;28mself\u001b[39m\u001b[38;5;241m.\u001b[39msparkSession)\n",
      "File \u001b[1;32mc:\\Users\\hiche\\Desktop\\Spark\\venv\\Lib\\site-packages\\py4j\\java_gateway.py:1322\u001b[0m, in \u001b[0;36mJavaMember.__call__\u001b[1;34m(self, *args)\u001b[0m\n\u001b[0;32m   1316\u001b[0m command \u001b[38;5;241m=\u001b[39m proto\u001b[38;5;241m.\u001b[39mCALL_COMMAND_NAME \u001b[38;5;241m+\u001b[39m\\\n\u001b[0;32m   1317\u001b[0m     \u001b[38;5;28mself\u001b[39m\u001b[38;5;241m.\u001b[39mcommand_header \u001b[38;5;241m+\u001b[39m\\\n\u001b[0;32m   1318\u001b[0m     args_command \u001b[38;5;241m+\u001b[39m\\\n\u001b[0;32m   1319\u001b[0m     proto\u001b[38;5;241m.\u001b[39mEND_COMMAND_PART\n\u001b[0;32m   1321\u001b[0m answer \u001b[38;5;241m=\u001b[39m \u001b[38;5;28mself\u001b[39m\u001b[38;5;241m.\u001b[39mgateway_client\u001b[38;5;241m.\u001b[39msend_command(command)\n\u001b[1;32m-> 1322\u001b[0m return_value \u001b[38;5;241m=\u001b[39m \u001b[43mget_return_value\u001b[49m\u001b[43m(\u001b[49m\n\u001b[0;32m   1323\u001b[0m \u001b[43m    \u001b[49m\u001b[43manswer\u001b[49m\u001b[43m,\u001b[49m\u001b[43m \u001b[49m\u001b[38;5;28;43mself\u001b[39;49m\u001b[38;5;241;43m.\u001b[39;49m\u001b[43mgateway_client\u001b[49m\u001b[43m,\u001b[49m\u001b[43m \u001b[49m\u001b[38;5;28;43mself\u001b[39;49m\u001b[38;5;241;43m.\u001b[39;49m\u001b[43mtarget_id\u001b[49m\u001b[43m,\u001b[49m\u001b[43m \u001b[49m\u001b[38;5;28;43mself\u001b[39;49m\u001b[38;5;241;43m.\u001b[39;49m\u001b[43mname\u001b[49m\u001b[43m)\u001b[49m\n\u001b[0;32m   1325\u001b[0m \u001b[38;5;28;01mfor\u001b[39;00m temp_arg \u001b[38;5;129;01min\u001b[39;00m temp_args:\n\u001b[0;32m   1326\u001b[0m     \u001b[38;5;28;01mif\u001b[39;00m \u001b[38;5;28mhasattr\u001b[39m(temp_arg, \u001b[38;5;124m\"\u001b[39m\u001b[38;5;124m_detach\u001b[39m\u001b[38;5;124m\"\u001b[39m):\n",
      "File \u001b[1;32mc:\\Users\\hiche\\Desktop\\Spark\\venv\\Lib\\site-packages\\pyspark\\errors\\exceptions\\captured.py:185\u001b[0m, in \u001b[0;36mcapture_sql_exception.<locals>.deco\u001b[1;34m(*a, **kw)\u001b[0m\n\u001b[0;32m    181\u001b[0m converted \u001b[38;5;241m=\u001b[39m convert_exception(e\u001b[38;5;241m.\u001b[39mjava_exception)\n\u001b[0;32m    182\u001b[0m \u001b[38;5;28;01mif\u001b[39;00m \u001b[38;5;129;01mnot\u001b[39;00m \u001b[38;5;28misinstance\u001b[39m(converted, UnknownException):\n\u001b[0;32m    183\u001b[0m     \u001b[38;5;66;03m# Hide where the exception came from that shows a non-Pythonic\u001b[39;00m\n\u001b[0;32m    184\u001b[0m     \u001b[38;5;66;03m# JVM exception message.\u001b[39;00m\n\u001b[1;32m--> 185\u001b[0m     \u001b[38;5;28;01mraise\u001b[39;00m converted \u001b[38;5;28;01mfrom\u001b[39;00m\u001b[38;5;250m \u001b[39m\u001b[38;5;28;01mNone\u001b[39;00m\n\u001b[0;32m    186\u001b[0m \u001b[38;5;28;01melse\u001b[39;00m:\n\u001b[0;32m    187\u001b[0m     \u001b[38;5;28;01mraise\u001b[39;00m\n",
      "\u001b[1;31mAnalysisException\u001b[0m: [UNRESOLVED_COLUMN.WITH_SUGGESTION] A column or function parameter with name `rmsperhh` cannot be resolved. Did you mean one of the following? [`medhv`, `medage`, `medinc`, `pop`, `lat`].;\n'Project [medhv#8, medage#2, totbdrms#4, pop#5, houshlds#6, medinc#7, 'rmsperhh, 'popperhh, 'bdrmsperrm]\n+- Relation [long#0,lat#1,medage#2,totrooms#3,totbdrms#4,pop#5,houshlds#6,medinc#7,medhv#8] csv\n"
     ]
    }
   ],
   "source": [
    "# Re-order and select columns\n",
    "housing_df = housing_df.select(\"medhv\", \n",
    "                               \"medage\",\n",
    "                              \"totbdrms\", \n",
    "                              \"pop\", \n",
    "                              \"houshlds\", \n",
    "                              \"medinc\", \n",
    "                              \"rmsperhh\", \n",
    "                              \"popperhh\", \n",
    "                              \"bdrmsperrm\")\n",
    "\n",
    "#### Feature Extraction\n",
    "\n",
    "featureCols = [\"totbdrms\", \"pop\", \"houshlds\", \"medinc\", \"rmsperhh\", \"popperhh\", \"bdrmsperrm\", \"medage\"]\n"
   ]
  },
  {
   "cell_type": "markdown",
   "id": "efb9f116",
   "metadata": {},
   "source": [
    "### Key Takeaways:\n",
    "Key Takeaways\n",
    "✅ Feature selection is complete—only the most important variables remain.\n",
    "✅ Feature extraction is ready—these features will be used for model training.\n",
    "✅ Next step: Data Scaling & Model Training. 🚀"
   ]
  },
  {
   "cell_type": "markdown",
   "id": "44b2af29-451f-489d-afbe-1b3e1a9a311a",
   "metadata": {},
   "source": [
    "### Class label formulation\n",
    "\n",
    "Classification is supervised learning. To predict the proper class label for any data, we need to provide label information for each class and the class range to properly separate the classes from one class to another.\n",
    "\n",
    "For our example, we are going to use four classes based on the medhv values we configured in previous steps. The class distribution is given over here.\n",
    "\n",
    "| Medhv Range  | Class Label        |\n",
    "|--------------|--------------------|\n",
    "| < 1.0        | 0 / 'first class'  |\n",
    "| < 2.0 >= 1.0 | 1 / 'second class' |\n",
    "| < 3.0 >= 2.0 | 2 / 'third class'  |\n",
    "| >= 3.0       | 3 / 'fourth class' |\n",
    "\n",
    "Our target is to learn the class labels based on the feature columns in such a way that if new data comes from each of the feature columns, the model can predict the class label properly.s'  |\n",
    "\n",
    "### Explanation:\n",
    "Class Label Formulation (Classification Problem)\n",
    "This section prepares the data for classification modeling by assigning class labels based on the medhv (median house value) variable."
   ]
  },
  {
   "cell_type": "code",
   "execution_count": null,
   "id": "e5cefbf1-4829-4edb-9ddd-f52ac6a3d33a",
   "metadata": {},
   "outputs": [
    {
     "data": {
      "text/plain": [
       "[Row(label=3, totbdrms=129.0, pop=322.0, houshlds=126.0, medinc=8.325200080871582, rmsperhh=6.98, popperhh=2.56, bdrmsperrm=0.15, medage=41.0),\n",
       " Row(label=3, totbdrms=1106.0, pop=2401.0, houshlds=1138.0, medinc=8.301400184631348, rmsperhh=6.24, popperhh=2.11, bdrmsperrm=0.16, medage=21.0),\n",
       " Row(label=3, totbdrms=190.0, pop=496.0, houshlds=177.0, medinc=7.257400035858154, rmsperhh=8.29, popperhh=2.8, bdrmsperrm=0.13, medage=52.0),\n",
       " Row(label=3, totbdrms=235.0, pop=558.0, houshlds=219.0, medinc=5.643099784851074, rmsperhh=5.82, popperhh=2.55, bdrmsperrm=0.18, medage=52.0),\n",
       " Row(label=3, totbdrms=280.0, pop=565.0, houshlds=259.0, medinc=3.8461999893188477, rmsperhh=6.28, popperhh=2.18, bdrmsperrm=0.17, medage=52.0)]"
      ]
     },
     "execution_count": 10,
     "metadata": {},
     "output_type": "execute_result"
    }
   ],
   "source": [
    "# Each row in the dataset is assigned a class label based on these ranges.\n",
    "# Creates a new column \"label\", assigning class labels based on the value of \"medhv\".\n",
    "# F.when(condition, value) checks conditions and assigns values accordingly:\n",
    "classification_df = housing_df.withColumn(\n",
    "    \"label\",\n",
    "    # If medhv < 1.0, assign 0.\n",
    "    F.when(col(\"medhv\") < 1.0, 0) # First class\n",
    "     .when((col(\"medhv\") >= 1.0) & (col(\"medhv\") < 2.0), 1) # Second class\n",
    "     .when((col(\"medhv\") >= 2.0) & (col(\"medhv\") < 3.0), 2) # Third class\n",
    "      # Otherwise (medhv >= 3.0), assign 3.\n",
    "     .otherwise(3) # Fourth class\n",
    ")\n",
    "# Selects only the label and feature columns, removing unnecessary columns.\n",
    "classification_df = classification_df.select(\"label\", *featureCols)\n",
    "classification_df.take(5)"
   ]
  },
  {
   "cell_type": "markdown",
   "id": "203f21a9",
   "metadata": {},
   "source": [
    "### Explanation:\n",
    "Key Takeaways\n",
    "✅ We transformed a regression problem into a classification problem.\n",
    "✅ Each house is now labeled into one of four categories based on its price.\n",
    "✅ This dataset is now ready for training a classification model."
   ]
  },
  {
   "cell_type": "markdown",
   "id": "ade2ae95-7da0-4f1d-bc73-2d812d47ff8c",
   "metadata": {},
   "source": [
    "#### Use a VectorAssembler \n",
    "\n",
    "##### put features into a feature vector column\n",
    "\n",
    "### Explanation:\n",
    "Using VectorAssembler to Prepare Features for Machine Learning\n",
    "In this step, we use VectorAssembler to combine multiple feature columns into a single feature vector column. This is necessary because Apache Spark ML expects features to be in a single vector format.\n",
    "### Why is this important?\n",
    "✅ Prepares data for machine learning\n",
    "✅ Combines all numerical features into one vector column\n",
    "✅ Enables Spark ML algorithms to process the data efficiently"
   ]
  },
  {
   "cell_type": "code",
   "execution_count": null,
   "id": "822552a7-763a-42ef-9cdb-d4217615ea25",
   "metadata": {},
   "outputs": [
    {
     "data": {
      "text/plain": [
       "[Row(label=3, totbdrms=129.0, pop=322.0, houshlds=126.0, medinc=8.325200080871582, rmsperhh=6.98, popperhh=2.56, bdrmsperrm=0.15, medage=41.0, features=DenseVector([129.0, 322.0, 126.0, 8.3252, 6.98, 2.56, 0.15, 41.0])),\n",
       " Row(label=3, totbdrms=1106.0, pop=2401.0, houshlds=1138.0, medinc=8.301400184631348, rmsperhh=6.24, popperhh=2.11, bdrmsperrm=0.16, medage=21.0, features=DenseVector([1106.0, 2401.0, 1138.0, 8.3014, 6.24, 2.11, 0.16, 21.0])),\n",
       " Row(label=3, totbdrms=190.0, pop=496.0, houshlds=177.0, medinc=7.257400035858154, rmsperhh=8.29, popperhh=2.8, bdrmsperrm=0.13, medage=52.0, features=DenseVector([190.0, 496.0, 177.0, 7.2574, 8.29, 2.8, 0.13, 52.0])),\n",
       " Row(label=3, totbdrms=235.0, pop=558.0, houshlds=219.0, medinc=5.643099784851074, rmsperhh=5.82, popperhh=2.55, bdrmsperrm=0.18, medage=52.0, features=DenseVector([235.0, 558.0, 219.0, 5.6431, 5.82, 2.55, 0.18, 52.0])),\n",
       " Row(label=3, totbdrms=280.0, pop=565.0, houshlds=259.0, medinc=3.8461999893188477, rmsperhh=6.28, popperhh=2.18, bdrmsperrm=0.17, medage=52.0, features=DenseVector([280.0, 565.0, 259.0, 3.8462, 6.28, 2.18, 0.17, 52.0]))]"
      ]
     },
     "execution_count": 12,
     "metadata": {},
     "output_type": "execute_result"
    },
    {
     "data": {
      "text/plain": [
       "[Row(label=3, totbdrms=129.0, pop=322.0, houshlds=126.0, medinc=8.325200080871582, rmsperhh=6.98, popperhh=2.56, bdrmsperrm=0.15, medage=41.0, features=DenseVector([129.0, 322.0, 126.0, 8.3252, 6.98, 2.56, 0.15, 41.0]), features_scaled=DenseVector([0.3062, 0.2843, 0.3296, 4.3821, 2.8211, 0.2465, 2.5829, 3.2577])),\n",
       " Row(label=3, totbdrms=1106.0, pop=2401.0, houshlds=1138.0, medinc=8.301400184631348, rmsperhh=6.24, popperhh=2.11, bdrmsperrm=0.16, medage=21.0, features=DenseVector([1106.0, 2401.0, 1138.0, 8.3014, 6.24, 2.11, 0.16, 21.0]), features_scaled=DenseVector([2.6255, 2.1202, 2.9765, 4.3696, 2.522, 0.2032, 2.7551, 1.6686])),\n",
       " Row(label=3, totbdrms=190.0, pop=496.0, houshlds=177.0, medinc=7.257400035858154, rmsperhh=8.29, popperhh=2.8, bdrmsperrm=0.13, medage=52.0, features=DenseVector([190.0, 496.0, 177.0, 7.2574, 8.29, 2.8, 0.13, 52.0]), features_scaled=DenseVector([0.451, 0.438, 0.463, 3.82, 3.3506, 0.2696, 2.2385, 4.1317])),\n",
       " Row(label=3, totbdrms=235.0, pop=558.0, houshlds=219.0, medinc=5.643099784851074, rmsperhh=5.82, popperhh=2.55, bdrmsperrm=0.18, medage=52.0, features=DenseVector([235.0, 558.0, 219.0, 5.6431, 5.82, 2.55, 0.18, 52.0]), features_scaled=DenseVector([0.5579, 0.4927, 0.5728, 2.9703, 2.3523, 0.2455, 3.0994, 4.1317])),\n",
       " Row(label=3, totbdrms=280.0, pop=565.0, houshlds=259.0, medinc=3.8461999893188477, rmsperhh=6.28, popperhh=2.18, bdrmsperrm=0.17, medage=52.0, features=DenseVector([280.0, 565.0, 259.0, 3.8462, 6.28, 2.18, 0.17, 52.0]), features_scaled=DenseVector([0.6647, 0.4989, 0.6774, 2.0245, 2.5382, 0.2099, 2.9273, 4.1317]))]"
      ]
     },
     "execution_count": 12,
     "metadata": {},
     "output_type": "execute_result"
    }
   ],
   "source": [
    "# Assemble features\n",
    "# Create a VectorAssembler\n",
    "\n",
    "# inputCols=featureCols: Specifies the columns we want to combine into a feature vector.\n",
    "# outputCol=\"features\": Defines the new column name that will store the assembled feature vectors.\n",
    "assembler = VectorAssembler(inputCols=featureCols, outputCol=\"features\")\n",
    "# Applies the transformation to create a new \"features\" column.\n",
    "assembled_class_df = assembler.transform(classification_df)\n",
    "assembled_class_df.take(5)\n",
    "\n",
    "\n"
   ]
  },
  {
   "cell_type": "markdown",
   "id": "4c1d2161-4687-45c1-9560-e0aad68304ca",
   "metadata": {},
   "source": [
    "### Standarization\n",
    "\n",
    "Next, we can finally scale the data using StandardScaler. The input columns are the features, and the output column with the rescaled that will be included in the scaled_df will be named \"features_scaled\":\n",
    "\n",
    "### Explanation:\n",
    "Why Standardization?\n",
    "Features have different units and magnitudes (e.g., population counts in thousands, income in decimal values).\n",
    "StandardScaler transforms features to zero mean and unit variance:\n",
    "𝑋\n",
    "scaled\n",
    "=\n",
    "𝑋\n",
    "−\n",
    "𝜇\n",
    "𝜎\n",
    "X \n",
    "scaled\n",
    "​\n",
    " = \n",
    "σ\n",
    "X−μ\n",
    "​\n",
    " \n",
    "where \n",
    "𝜇\n",
    "μ is the mean and \n",
    "𝜎\n",
    "σ is the standard deviation."
   ]
  },
  {
   "cell_type": "code",
   "execution_count": null,
   "id": "e1a5631b-c6c1-4ada-a58c-7f214f4ad45b",
   "metadata": {},
   "outputs": [
    {
     "data": {
      "text/plain": [
       "[Row(label=3, totbdrms=129.0, pop=322.0, houshlds=126.0, medinc=8.325200080871582, rmsperhh=6.98, popperhh=2.56, bdrmsperrm=0.15, medage=41.0, features=DenseVector([129.0, 322.0, 126.0, 8.3252, 6.98, 2.56, 0.15, 41.0]), features_scaled=DenseVector([0.3062, 0.2843, 0.3296, 4.3821, 2.8211, 0.2465, 2.5829, 3.2577])),\n",
       " Row(label=3, totbdrms=1106.0, pop=2401.0, houshlds=1138.0, medinc=8.301400184631348, rmsperhh=6.24, popperhh=2.11, bdrmsperrm=0.16, medage=21.0, features=DenseVector([1106.0, 2401.0, 1138.0, 8.3014, 6.24, 2.11, 0.16, 21.0]), features_scaled=DenseVector([2.6255, 2.1202, 2.9765, 4.3696, 2.522, 0.2032, 2.7551, 1.6686])),\n",
       " Row(label=3, totbdrms=190.0, pop=496.0, houshlds=177.0, medinc=7.257400035858154, rmsperhh=8.29, popperhh=2.8, bdrmsperrm=0.13, medage=52.0, features=DenseVector([190.0, 496.0, 177.0, 7.2574, 8.29, 2.8, 0.13, 52.0]), features_scaled=DenseVector([0.451, 0.438, 0.463, 3.82, 3.3506, 0.2696, 2.2385, 4.1317])),\n",
       " Row(label=3, totbdrms=235.0, pop=558.0, houshlds=219.0, medinc=5.643099784851074, rmsperhh=5.82, popperhh=2.55, bdrmsperrm=0.18, medage=52.0, features=DenseVector([235.0, 558.0, 219.0, 5.6431, 5.82, 2.55, 0.18, 52.0]), features_scaled=DenseVector([0.5579, 0.4927, 0.5728, 2.9703, 2.3523, 0.2455, 3.0994, 4.1317])),\n",
       " Row(label=3, totbdrms=280.0, pop=565.0, houshlds=259.0, medinc=3.8461999893188477, rmsperhh=6.28, popperhh=2.18, bdrmsperrm=0.17, medage=52.0, features=DenseVector([280.0, 565.0, 259.0, 3.8462, 6.28, 2.18, 0.17, 52.0]), features_scaled=DenseVector([0.6647, 0.4989, 0.6774, 2.0245, 2.5382, 0.2099, 2.9273, 4.1317]))]"
      ]
     },
     "execution_count": 13,
     "metadata": {},
     "output_type": "execute_result"
    }
   ],
   "source": [
    "# Scale the features\n",
    "standardScaler = StandardScaler(inputCol=\"features\", outputCol=\"features_scaled\")\n",
    "scaled_class_df = standardScaler.fit(assembled_class_df).transform(assembled_class_df)\n",
    "scaled_class_df.take(5)\n",
    "# How This Works:\n",
    "# Create StandardScaler\n",
    "\n",
    "# inputCol=\"features\": Uses the previously assembled feature vector.\n",
    "# outputCol=\"features_scaled\": Stores the rescaled values.\n",
    "# Fit and Transform the Data\n",
    "\n",
    "# .fit(assembled_class_df): Learns the scaling factors from the dataset.\n",
    "# .transform(assembled_class_df): Applies scaling to each feature."
   ]
  },
  {
   "cell_type": "markdown",
   "id": "c3f1554b",
   "metadata": {},
   "source": [
    "### Explanation:\n",
    "Key Takeaways\n",
    "✅ Prepares data for machine learning models by standardizing different feature magnitudes.\n",
    "✅ Improves numerical stability and model performance.\n",
    "✅ Necessary for distance-based models like Logistic Regression, KNN, SVM."
   ]
  },
  {
   "cell_type": "markdown",
   "id": "ce9ca662-fb95-487f-bffc-08e95ebdeafa",
   "metadata": {},
   "source": [
    "### Building The ML Model\n",
    "#### Creating and ElasticNet \n",
    "\n",
    "ElasticNet is a linear regression model trained with L1 and L2 prior as regularizer. This combination allows for learning a sparse model where few of the weights are non-zero like Lasso, while still maintaining the regularization properties of Ridge. We control the convex combination of L1 and L2 using the l1_ratio parameterElastic-Net can be used for classification as well. Here, regressed lines going to be generated from different features are going to put the data to different class labels, based on learned values.tation.\n",
    "\n",
    "### Explanation: \n",
    "This section shows how to train an ElasticNet model using PySpark's MLlib.\n",
    "\n",
    "### DEFINITIONS:\n",
    "### VectorAssembler\n",
    "What is it?\n",
    "VectorAssembler combines multiple feature columns into a single vector column.\n",
    "Many ML models in PySpark require all features to be in a single vector.\n",
    "### how it works:\n",
    "How it Works\n",
    "inputCols=featureCols → Specifies the original feature columns.\n",
    "outputCol=\"features\" → Creates a new column (features) containing a vector of all selected features.\n",
    ".transform(df) → Applies the transformation to convert feature columns into a vector column.\n",
    "\n",
    "### .transform()\n",
    ".transform()\n",
    "What is it?\n",
    ".transform() applies a transformation to a DataFrame.\n",
    "Used with feature engineering, data scaling, and predictions.\n",
    "\n",
    "### .fit()\n",
    "What is it?\n",
    ".fit() trains a machine learning model using training data.\n",
    "It learns from the data and returns a trained model."
   ]
  },
  {
   "cell_type": "code",
   "execution_count": null,
   "id": "7f3c8c4c-e53b-45cf-a8d8-91bf7712c41c",
   "metadata": {},
   "outputs": [],
   "source": [
    "# Split the data into training and test sets\n",
    "# Splitting the Data\n",
    "\n",
    "# randomSplit([.8, .2], seed=rnd_seed):\n",
    "# 80% for training, 20% for testing.\n",
    "# seed=rnd_seed: Ensures reproducibility.\n",
    "# train_data, test_data = scaled_class_df.randomSplit([.8, .2], seed=rnd_seed)\n",
    "# Use Elastic Net Linear Regression\n",
    "from pyspark.ml.regression import LinearRegression\n",
    "\n",
    "lr = LinearRegression(\n",
    "    featuresCol=\"features_scaled\",  # Input features column\n",
    "    labelCol=\"label\",               # Target column\n",
    "    predictionCol=\"prediction\",      # Output prediction column\n",
    "    maxIter=10,                      # Max iterations for optimization\n",
    "    regParam=0.3,                     # Regularization strength\n",
    "    elasticNetParam=0.8               # ElasticNet mixing (0=L2, 1=L1)\n",
    ")\n",
    "\n",
    "elasticNetModel = lr.fit(train_data)  # Train the model"
   ]
  },
  {
   "cell_type": "code",
   "execution_count": null,
   "id": "1ec959b3-bc3c-4689-9691-1ebdb1c451f7",
   "metadata": {},
   "outputs": [
    {
     "data": {
      "text/plain": [
       "DenseVector([0.0, 0.0, 0.0, 0.3539, 0.0, 0.0, 0.0, 0.0])"
      ]
     },
     "execution_count": 15,
     "metadata": {},
     "output_type": "execute_result"
    }
   ],
   "source": [
    "## Evaluating the model\n",
    "# Coefficients for the model\n",
    "elasticNetModel.coefficients\n",
    "# What This Means:\n",
    "# The coefficients determine how much each feature contributes to the prediction.\n",
    "# Many coefficients are 0, meaning ElasticNet has selected only some features while ignoring others.\n",
    "# The only non-zero coefficient is for \"medinc\" (median income), \n",
    "# meaning it's the most important predictor of house price categories."
   ]
  },
  {
   "cell_type": "code",
   "execution_count": null,
   "id": "22d848fc-944d-4e13-9991-dc974e26e46a",
   "metadata": {},
   "outputs": [
    {
     "data": {
      "text/plain": [
       "0.7178530381089424"
      ]
     },
     "execution_count": 16,
     "metadata": {},
     "output_type": "execute_result"
    }
   ],
   "source": [
    "# Intercept for the model\n",
    "elasticNetModel.intercept\n",
    "# What This Means:\n",
    "# The intercept represents the baseline value when all feature values are 0."
   ]
  },
  {
   "cell_type": "code",
   "execution_count": null,
   "id": "301c2081-a680-459c-982e-1ab536d809bd",
   "metadata": {},
   "outputs": [
    {
     "data": {
      "text/html": [
       "<div>\n",
       "<style scoped>\n",
       "    .dataframe tbody tr th:only-of-type {\n",
       "        vertical-align: middle;\n",
       "    }\n",
       "\n",
       "    .dataframe tbody tr th {\n",
       "        vertical-align: top;\n",
       "    }\n",
       "\n",
       "    .dataframe thead th {\n",
       "        text-align: right;\n",
       "    }\n",
       "</style>\n",
       "<table border=\"1\" class=\"dataframe\">\n",
       "  <thead>\n",
       "    <tr style=\"text-align: right;\">\n",
       "      <th></th>\n",
       "      <th>Feature</th>\n",
       "      <th>Co-efficients</th>\n",
       "    </tr>\n",
       "  </thead>\n",
       "  <tbody>\n",
       "    <tr>\n",
       "      <th>0</th>\n",
       "      <td>Intercept</td>\n",
       "      <td>0.717853</td>\n",
       "    </tr>\n",
       "    <tr>\n",
       "      <th>1</th>\n",
       "      <td>totbdrms</td>\n",
       "      <td>0.000000</td>\n",
       "    </tr>\n",
       "    <tr>\n",
       "      <th>2</th>\n",
       "      <td>pop</td>\n",
       "      <td>0.000000</td>\n",
       "    </tr>\n",
       "    <tr>\n",
       "      <th>3</th>\n",
       "      <td>houshlds</td>\n",
       "      <td>0.000000</td>\n",
       "    </tr>\n",
       "    <tr>\n",
       "      <th>4</th>\n",
       "      <td>medinc</td>\n",
       "      <td>0.353867</td>\n",
       "    </tr>\n",
       "    <tr>\n",
       "      <th>5</th>\n",
       "      <td>rmsperhh</td>\n",
       "      <td>0.000000</td>\n",
       "    </tr>\n",
       "    <tr>\n",
       "      <th>6</th>\n",
       "      <td>popperhh</td>\n",
       "      <td>0.000000</td>\n",
       "    </tr>\n",
       "    <tr>\n",
       "      <th>7</th>\n",
       "      <td>bdrmsperrm</td>\n",
       "      <td>0.000000</td>\n",
       "    </tr>\n",
       "    <tr>\n",
       "      <th>8</th>\n",
       "      <td>medage</td>\n",
       "      <td>0.000000</td>\n",
       "    </tr>\n",
       "  </tbody>\n",
       "</table>\n",
       "</div>"
      ],
      "text/plain": [
       "      Feature  Co-efficients\n",
       "0   Intercept       0.717853\n",
       "1    totbdrms       0.000000\n",
       "2         pop       0.000000\n",
       "3    houshlds       0.000000\n",
       "4      medinc       0.353867\n",
       "5    rmsperhh       0.000000\n",
       "6    popperhh       0.000000\n",
       "7  bdrmsperrm       0.000000\n",
       "8      medage       0.000000"
      ]
     },
     "execution_count": 18,
     "metadata": {},
     "output_type": "execute_result"
    }
   ],
   "source": [
    "coeff_df = pd.DataFrame({\"Feature\": [\"Intercept\"] + featureCols, \"Co-efficients\": np.insert(elasticNetModel.coefficients.toArray(), 0, elasticNetModel.intercept)})\n",
    "coeff_df = coeff_df[[\"Feature\", \"Co-efficients\"]]\n",
    "# coeff_dfKey Takeaways\n",
    "# ✅ ElasticNet performed feature selection—only \"medinc\" (median income) is important.\n",
    "# ✅ Other features have zero coefficients, meaning they have little or no effect on the predictions.\n",
    "# ✅ The intercept is 0.717, setting a baseline prediction."
   ]
  },
  {
   "cell_type": "markdown",
   "id": "265ed165-dea5-48ab-9a72-dfa27da08465",
   "metadata": {},
   "source": [
    "### Generating Predictions Using ElasticNet\n",
    "This section explains how to use the trained ElasticNet model to make predictions and convert the regression outputs into class labels."
   ]
  },
  {
   "cell_type": "code",
   "execution_count": null,
   "id": "643ad1fd-7e69-4a77-98bb-166bc8694b60",
   "metadata": {},
   "outputs": [
    {
     "data": {
      "text/plain": [
       "[Row(label=0, totbdrms=2.0, pop=8.0, houshlds=2.0, medinc=1.625, rmsperhh=3.0, popperhh=4.0, bdrmsperrm=0.33, medage=1.0, features=DenseVector([2.0, 8.0, 2.0, 1.625, 3.0, 4.0, 0.33, 1.0]), features_scaled=DenseVector([0.0047, 0.0071, 0.0052, 0.8553, 1.2125, 0.3851, 5.6823, 0.0795]), prediction=1.0205310529552487),\n",
       " Row(label=0, totbdrms=7.0, pop=55.0, houshlds=7.0, medinc=7.575200080871582, rmsperhh=3.14, popperhh=7.86, bdrmsperrm=0.32, medage=52.0, features=DenseVector([7.0, 55.0, 7.0, 7.5752, 3.14, 7.86, 0.32, 52.0]), features_scaled=DenseVector([0.0166, 0.0486, 0.0183, 3.9873, 1.2691, 0.7568, 5.5101, 4.1317]), prediction=2.1288355135192742),\n",
       " Row(label=0, totbdrms=8.0, pop=13.0, houshlds=8.0, medinc=2.375, rmsperhh=6.0, popperhh=1.63, bdrmsperrm=0.17, medage=26.0, features=DenseVector([8.0, 13.0, 8.0, 2.375, 6.0, 1.63, 0.17, 26.0]), features_scaled=DenseVector([0.019, 0.0115, 0.0209, 1.2501, 2.425, 0.1569, 2.9273, 2.0659]), prediction=1.1602285982689284),\n",
       " Row(label=0, totbdrms=10.0, pop=46.0, houshlds=13.0, medinc=4.349999904632568, rmsperhh=4.62, popperhh=3.54, bdrmsperrm=0.17, medage=28.0, features=DenseVector([10.0, 46.0, 13.0, 4.35, 4.62, 3.54, 0.17, 28.0]), features_scaled=DenseVector([0.0237, 0.0406, 0.034, 2.2897, 1.8673, 0.3408, 2.9273, 2.2248]), prediction=1.5280987831648238),\n",
       " Row(label=0, totbdrms=17.0, pop=43.0, houshlds=13.0, medinc=0.5360000133514404, rmsperhh=7.85, popperhh=3.31, bdrmsperrm=0.17, medage=26.0, features=DenseVector([17.0, 43.0, 13.0, 0.536, 7.85, 3.31, 0.17, 26.0]), features_scaled=DenseVector([0.0404, 0.038, 0.034, 0.2821, 3.1728, 0.3187, 2.9273, 2.0659]), prediction=0.8176902196466702)]"
      ]
     },
     "execution_count": 25,
     "metadata": {},
     "output_type": "execute_result"
    },
    {
     "data": {
      "text/plain": [
       "[Row(label=0, totbdrms=2.0, pop=8.0, houshlds=2.0, medinc=1.625, rmsperhh=3.0, popperhh=4.0, bdrmsperrm=0.33, medage=1.0, features=DenseVector([2.0, 8.0, 2.0, 1.625, 3.0, 4.0, 0.33, 1.0]), features_scaled=DenseVector([0.0047, 0.0071, 0.0052, 0.8553, 1.2125, 0.3851, 5.6823, 0.0795]), prediction=1.0205310529552487, class_prediction=1.0),\n",
       " Row(label=0, totbdrms=7.0, pop=55.0, houshlds=7.0, medinc=7.575200080871582, rmsperhh=3.14, popperhh=7.86, bdrmsperrm=0.32, medage=52.0, features=DenseVector([7.0, 55.0, 7.0, 7.5752, 3.14, 7.86, 0.32, 52.0]), features_scaled=DenseVector([0.0166, 0.0486, 0.0183, 3.9873, 1.2691, 0.7568, 5.5101, 4.1317]), prediction=2.1288355135192742, class_prediction=2.0),\n",
       " Row(label=0, totbdrms=8.0, pop=13.0, houshlds=8.0, medinc=2.375, rmsperhh=6.0, popperhh=1.63, bdrmsperrm=0.17, medage=26.0, features=DenseVector([8.0, 13.0, 8.0, 2.375, 6.0, 1.63, 0.17, 26.0]), features_scaled=DenseVector([0.019, 0.0115, 0.0209, 1.2501, 2.425, 0.1569, 2.9273, 2.0659]), prediction=1.1602285982689284, class_prediction=1.0),\n",
       " Row(label=0, totbdrms=10.0, pop=46.0, houshlds=13.0, medinc=4.349999904632568, rmsperhh=4.62, popperhh=3.54, bdrmsperrm=0.17, medage=28.0, features=DenseVector([10.0, 46.0, 13.0, 4.35, 4.62, 3.54, 0.17, 28.0]), features_scaled=DenseVector([0.0237, 0.0406, 0.034, 2.2897, 1.8673, 0.3408, 2.9273, 2.2248]), prediction=1.5280987831648238, class_prediction=2.0),\n",
       " Row(label=0, totbdrms=17.0, pop=43.0, houshlds=13.0, medinc=0.5360000133514404, rmsperhh=7.85, popperhh=3.31, bdrmsperrm=0.17, medage=26.0, features=DenseVector([17.0, 43.0, 13.0, 0.536, 7.85, 3.31, 0.17, 26.0]), features_scaled=DenseVector([0.0404, 0.038, 0.034, 0.2821, 3.1728, 0.3187, 2.9273, 2.0659]), prediction=0.8176902196466702, class_prediction=1.0)]"
      ]
     },
     "execution_count": 25,
     "metadata": {},
     "output_type": "execute_result"
    }
   ],
   "source": [
    "# Generate predictions\n",
    "predictions = elasticNetModel.transform(test_data)\n",
    "predictions.take(5)\n",
    "# How It Works:\n",
    "# .transform(test_data) → Uses the trained model to predict labels for the test dataset.\n",
    "# The output includes:\n",
    "# label → The actual class from the dataset.\n",
    "# prediction → The regression output from the model.\n",
    "\n",
    "# Convert regression outputs to class predictions using rounding\n",
    "predictions = predictions.withColumn(\"class_prediction\", F.round(col(\"prediction\")).cast(\"double\"))\n",
    "predictions.take(5)\n",
    "# How It Works:\n",
    "# F.round(col(\"prediction\")) → Rounds the regression output to the nearest whole number.\n",
    "# .cast(\"double\") → Ensures the column data type is numeric.\n",
    "# Creates a new column \"class_prediction\" containing the final class labels."
   ]
  },
  {
   "cell_type": "markdown",
   "id": "b35e1190",
   "metadata": {},
   "source": [
    "### Key Takeaways\n",
    "✅ Predictions are generated for test data.\n",
    "✅ Regression outputs are rounded to create final class labels.\n",
    "✅ The model is now ready for accuracy evaluation."
   ]
  },
  {
   "cell_type": "markdown",
   "id": "183a4777-912c-4a0d-8e4b-36cd8683e885",
   "metadata": {},
   "source": [
    "### Evaluation\n",
    "### Evaluation Metrics\n",
    "Why use Accuracy and F1-score?\n",
    "Accuracy: Measures how many predictions were correct.\n",
    "F1-score: Balances precision and recall, useful when classes are imbalanced."
   ]
  },
  {
   "cell_type": "code",
   "execution_count": null,
   "id": "f92b679c-23e4-41a8-8dde-c409f357c753",
   "metadata": {},
   "outputs": [
    {
     "name": "stdout",
     "output_type": "stream",
     "text": [
      "Accuracy: 0.45713595749818886\n",
      "F1 Score: 0.3698116654880567\n"
     ]
    }
   ],
   "source": [
    "# Evaluate the model using MulticlassClassificationEvaluator\n",
    "from pyspark.ml.evaluation import MulticlassClassificationEvaluator\n",
    "\n",
    "# Accuracy Evaluator\n",
    "evaluator_accuracy = MulticlassClassificationEvaluator(\n",
    "    labelCol=\"label\", \n",
    "    predictionCol=\"class_prediction\", \n",
    "    metricName=\"accuracy\"\n",
    ")\n",
    "\n",
    "# F1-score Evaluator\n",
    "evaluator_f1 = MulticlassClassificationEvaluator(\n",
    "    labelCol=\"label\", \n",
    "    predictionCol=\"class_prediction\", \n",
    "    metricName=\"f1\"\n",
    ")\n",
    "\n",
    "# Compute Evaluation Scores\n",
    "accuracy = evaluator_accuracy.evaluate(predictions)\n",
    "f1_score = evaluator_f1.evaluate(predictions)\n",
    "\n",
    "# Print Results\n",
    "print(f\"Accuracy: {accuracy}\")\n",
    "print(f\"F1 Score: {f1_score}\")"
   ]
  },
  {
   "cell_type": "markdown",
   "id": "0a504888",
   "metadata": {},
   "source": [
    "### Interpretation of Results\n",
    "Accuracy = 45.7% → The model correctly predicts the house value class 45.7% of the time.<br>\n",
    "F1-score = 36.9% → The model balances precision and recall at 36.9%.<br>\n",
    "#### Why is F1-score lower than Accuracy?\n",
    "The model may struggle with some classes more than others.<br>\n",
    "There might be class imbalance where some categories have more samples than others."
   ]
  },
  {
   "cell_type": "markdown",
   "id": "ddcd7fe9-6e64-4cae-9dfa-164633cdf8d2",
   "metadata": {},
   "source": [
    "### Extract predictions and true labels\n",
    "\n"
   ]
  },
  {
   "cell_type": "code",
   "execution_count": null,
   "id": "f79e37d9-fc6d-48ac-9c4e-afa160799952",
   "metadata": {},
   "outputs": [
    {
     "name": "stdout",
     "output_type": "stream",
     "text": [
      "+-----+----------------+------------------+\n",
      "|label|class_prediction|        prediction|\n",
      "+-----+----------------+------------------+\n",
      "|    0|             1.0|1.0205310529552487|\n",
      "|    0|             2.0|2.1288355135192742|\n",
      "|    0|             1.0|1.1602285982689284|\n",
      "|    0|             2.0|1.5280987831648238|\n",
      "|    0|             1.0|0.8176902196466702|\n",
      "|    0|             1.0|1.0942541253761675|\n",
      "|    0|             1.0|0.9739652045173555|\n",
      "|    0|             1.0|0.8176902196466702|\n",
      "|    0|             1.0|1.0857232452091647|\n",
      "|    0|             1.0|0.8774993947408157|\n",
      "|    0|             1.0|1.3930578404583949|\n",
      "|    0|             1.0| 1.097364685114311|\n",
      "|    0|             1.0|1.1951529845973485|\n",
      "|    0|             1.0|0.9914367012945107|\n",
      "|    0|             1.0|0.8715575945939924|\n",
      "|    0|             1.0|0.9488941436537821|\n",
      "|    0|             1.0|0.9273993560794621|\n",
      "|    0|             1.0|1.1555719956616777|\n",
      "|    0|             1.0|1.3413138541844694|\n",
      "|    0|             1.0| 1.136945674049982|\n",
      "+-----+----------------+------------------+\n",
      "only showing top 20 rows\n",
      "\n"
     ]
    }
   ],
   "source": [
    "predandlabels = predictions.select(\"label\", \"class_prediction\", \"prediction\")\n",
    "predandlabels.show()\n",
    "# How It Works:\n",
    "# select(\"label\", \"class_prediction\", \"prediction\")\n",
    "\n",
    "# Extracts the actual label (label).\n",
    "# Extracts the rounded classification prediction (class_prediction).\n",
    "# Extracts the raw regression prediction (prediction).\n",
    "# .show()\n",
    "\n",
    "# Displays the first few rows of predictions."
   ]
  },
  {
   "cell_type": "code",
   "execution_count": null,
   "id": "761f1ada-6036-4ad2-9b55-ab05c7bf6f7a",
   "metadata": {},
   "outputs": [
    {
     "data": {
      "text/plain": [
       "<Axes: xlabel='label', ylabel='count'>"
      ]
     },
     "execution_count": 28,
     "metadata": {},
     "output_type": "execute_result"
    },
    {
     "data": {
      "text/plain": [
       "Text(0.5, 1.0, 'True Labels vs Predicted Classes')"
      ]
     },
     "execution_count": 28,
     "metadata": {},
     "output_type": "execute_result"
    },
    {
     "data": {
      "image/png": "[encoded data removed]",
      "text/plain": [
       "<Figure size 1800x400 with 1 Axes>"
      ]
     },
     "metadata": {
      "image/png": {
       "height": 399,
       "width": 1479
      }
     },
     "output_type": "display_data"
    }
   ],
   "source": [
    "# Visualization\n",
    "classification_df_sample = predictions.select(['label', 'class_prediction']).sample(False, 0.7, 42)\n",
    "classification_pandas_df = classification_df_sample.toPandas()\n",
    "\n",
    "sns.countplot(data=classification_pandas_df, x='True Label', hue='class_prediction')\n",
    "plt.title('True Labels vs Predicted Classes')\n",
    "plt.show()\n",
    "# How It Works:\n",
    "# Extracts the necessary columns → label (true class) and class_prediction (predicted class).\n",
    "# Samples 70% of the data to make the plot manageable.\n",
    "# Converts the data to Pandas using .toPandas() (since Seaborn works with Pandas).\n",
    "# Creates a countplot:\n",
    "# x='label' → X-axis represents true labels.\n",
    "# hue='class_prediction' → Different colors show predicted classes.\n",
    "# Displays the plot."
   ]
  },
  {
   "cell_type": "markdown",
   "id": "c50dced3",
   "metadata": {},
   "source": [
    "### Interpreting the Visualization\n",
    "The bars represent the count of true labels.<br>\n",
    "The shaded sections within bars show predicted class distributions.<br>\n",
    "If a single color dominates a true label, the model predicted correctly.<br>\n",
    "If multiple colors appear for a true label, the model made misclassifications.\n",
    "### Key Observations\n",
    "✅ Class 1 is often misclassified as Class 2.<br>\n",
    "✅ Class 3 predictions show some overlap with Class 2.<br>\n",
    "✅ Few predictions for Class 4, suggesting an imbalance."
   ]
  },
  {
   "cell_type": "markdown",
   "id": "d2f3f298-17ea-4b73-8801-645e8ce2554b",
   "metadata": {},
   "source": [
    "## Exercise 1\n",
    "\n",
    "Please consider the attached insurance.csv file. In this file, you have 4 numerical columns, age, bmi, no of children and charges. And other 3 columns, sex, smoker and region are String data.\n",
    "\n",
    "Our target is to get a classified insurance charges based on the given data in the insurance.csv file. Please use three numerical columns, age, bmi and no of children as features to generate the regression classification model. Perform the evaluation with different metrics to find out the accuracy of the model in generating regressed classification. And use the following table to generate the classification label:\n",
    "\n",
    "\n",
    "| Charges Range | Class Label        |\n",
    "|--------------|--------------------|\n",
    "| < 5000        | 0 / 'Lowest Insurance'  |\n",
    "| < 10000 >= 5000 | 1 / 'Mid-Lowest Insurance' |\n",
    "| < 16000 >= 10000 | 2 / 'Mid Insurance'  |\n",
    "| < 21000 >= 16000 | 3 / 'Higher-Mid Insurance'  |\n",
    "| >= 21000       | 4 / 'Highest Insurance' |\n",
    "\n"
   ]
  },
  {
   "cell_type": "code",
   "execution_count": 10,
   "id": "43ce8430",
   "metadata": {},
   "outputs": [
    {
     "name": "stdout",
     "output_type": "stream",
     "text": [
      "Accuracy: 0.8340807174887892\n"
     ]
    }
   ],
   "source": [
    "from pyspark.sql import SparkSession\n",
    "from pyspark.sql.functions import when, col\n",
    "from pyspark.ml.feature import VectorAssembler, StandardScaler, StringIndexer\n",
    "from pyspark.ml.classification import LogisticRegression\n",
    "from pyspark.ml.evaluation import MulticlassClassificationEvaluator\n",
    "\n",
    "# Initialize Spark\n",
    "spark = SparkSession.builder.appName(\"Insurance_Classification\").getOrCreate()\n",
    "\n",
    "# Load Dataset\n",
    "df = spark.read.csv(\"insurance.csv\", header=True, inferSchema=True)\n",
    "\n",
    "# Encode categorical columns\n",
    "indexer_sex = StringIndexer(inputCol=\"sex\", outputCol=\"sex_indexed\").fit(df)\n",
    "df = indexer_sex.transform(df)\n",
    "\n",
    "indexer_smoker = StringIndexer(inputCol=\"smoker\", outputCol=\"smoker_indexed\").fit(df)\n",
    "df = indexer_smoker.transform(df)\n",
    "\n",
    "indexer_region = StringIndexer(inputCol=\"region\", outputCol=\"region_indexed\").fit(df)\n",
    "df = indexer_region.transform(df)\n",
    "\n",
    "# Select relevant features\n",
    "features = [\"age\", \"bmi\", \"children\", \"sex_indexed\", \"smoker_indexed\", \"region_indexed\"]\n",
    "target = \"charges\"\n",
    "\n",
    "# Convert features into a single vector\n",
    "assembler = VectorAssembler(inputCols=features, outputCol=\"features\")\n",
    "df = assembler.transform(df)\n",
    "\n",
    "# Standardize features\n",
    "scaler = StandardScaler(inputCol=\"features\", outputCol=\"features_scaled\")\n",
    "df = scaler.fit(df).transform(df)\n",
    "\n",
    "# Convert charges to categorical labels\n",
    "df = df.withColumn(\n",
    "    \"class_label\",\n",
    "    when(col(\"charges\") < 5000, 0)\n",
    "    .when((col(\"charges\") >= 5000) & (col(\"charges\") < 10000), 1)\n",
    "    .when((col(\"charges\") >= 10000) & (col(\"charges\") < 16000), 2)\n",
    "    .when((col(\"charges\") >= 16000) & (col(\"charges\") < 21000), 3)\n",
    "    .otherwise(4)\n",
    ")\n",
    "\n",
    "# Train Classification Model (Logistic Regression)\n",
    "lr = LogisticRegression(featuresCol=\"features_scaled\", labelCol=\"class_label\", predictionCol=\"prediction\")\n",
    "model = lr.fit(df)\n",
    "\n",
    "# Generate predictions\n",
    "predictions = model.transform(df)\n",
    "\n",
    "# Evaluate Model\n",
    "evaluator_accuracy = MulticlassClassificationEvaluator(\n",
    "    labelCol=\"class_label\", predictionCol=\"prediction\", metricName=\"accuracy\"\n",
    ")\n",
    "\n",
    "accuracy = evaluator_accuracy.evaluate(predictions)\n",
    "print(f\"Accuracy: {accuracy}\")"
   ]
  },
  {
   "cell_type": "markdown",
   "id": "4e3d2d90",
   "metadata": {},
   "source": [
    "## Exercise 2\n",
    "\n",
    "Please consider all the columns present in insurance.csv file to regress the charges values. Keep the numerical columns unchanged and encode the columns with String values with One-Hot encoding. Perform Linear Regression Classification on the dataset and check whether the accuracy of class prediction for charges has increased or not.\n",
    "\n",
    "For accuracy comparison used the evaluation metrics provided in this tutorial."
   ]
  },
  {
   "cell_type": "code",
   "execution_count": 12,
   "id": "b89d1f6e",
   "metadata": {},
   "outputs": [
    {
     "name": "stdout",
     "output_type": "stream",
     "text": [
      "Linear Regression Model Accuracy: 0.6869565217391305\n"
     ]
    }
   ],
   "source": [
    "from pyspark.sql import SparkSession\n",
    "from pyspark.sql.functions import when, col\n",
    "from pyspark.ml.feature import VectorAssembler, StandardScaler, OneHotEncoder, StringIndexer\n",
    "from pyspark.ml.regression import LinearRegression\n",
    "from pyspark.ml.evaluation import MulticlassClassificationEvaluator\n",
    "from pyspark.sql.types import DoubleType\n",
    "\n",
    "# Initialize Spark\n",
    "spark = SparkSession.builder.appName(\"Insurance_LinearRegression\").getOrCreate()\n",
    "\n",
    "# Load Dataset\n",
    "df = spark.read.csv(\"insurance.csv\", header=True, inferSchema=True)\n",
    "\n",
    "# One-Hot Encoding for Categorical Features\n",
    "indexer = StringIndexer(inputCols=[\"sex\", \"smoker\", \"region\"], \n",
    "                        outputCols=[\"sex_indexed\", \"smoker_indexed\", \"region_indexed\"])\n",
    "df = indexer.fit(df).transform(df)\n",
    "\n",
    "encoder = OneHotEncoder(inputCols=[\"sex_indexed\", \"smoker_indexed\", \"region_indexed\"],\n",
    "                         outputCols=[\"sex_encoded\", \"smoker_encoded\", \"region_encoded\"])\n",
    "df = encoder.fit(df).transform(df)\n",
    "\n",
    "# Select relevant features\n",
    "features = [\"age\", \"bmi\", \"children\", \"sex_encoded\", \"smoker_encoded\", \"region_encoded\"]\n",
    "target = \"charges\"\n",
    "\n",
    "# Convert features into a single vector\n",
    "assembler = VectorAssembler(inputCols=features, outputCol=\"features\")\n",
    "df = assembler.transform(df)\n",
    "\n",
    "# Standardize features\n",
    "scaler = StandardScaler(inputCol=\"features\", outputCol=\"features_scaled\")\n",
    "df = scaler.fit(df).transform(df)\n",
    "\n",
    "# Convert charges to categorical labels\n",
    "df = df.withColumn(\n",
    "    \"class_label\",\n",
    "    when(col(\"charges\") < 5000, 0)\n",
    "    .when((col(\"charges\") >= 5000) & (col(\"charges\") < 10000), 1)\n",
    "    .when((col(\"charges\") >= 10000) & (col(\"charges\") < 16000), 2)\n",
    "    .when((col(\"charges\") >= 16000) & (col(\"charges\") < 21000), 3)\n",
    "    .otherwise(4)\n",
    ")\n",
    "\n",
    "# Split Data into Training & Testing Sets\n",
    "train_data, test_data = df.randomSplit([0.8, 0.2], seed=42)\n",
    "\n",
    "# Train Linear Regression Model\n",
    "lr = LinearRegression(featuresCol=\"features_scaled\", labelCol=\"charges\", predictionCol=\"prediction\")\n",
    "model = lr.fit(train_data)\n",
    "\n",
    "# Generate predictions\n",
    "predictions = model.transform(test_data)\n",
    "\n",
    "# Convert regression outputs to class labels\n",
    "predictions = predictions.withColumn(\n",
    "    \"class_prediction\",\n",
    "    when(col(\"prediction\") < 5000, 0)\n",
    "    .when((col(\"prediction\") >= 5000) & (col(\"prediction\") < 10000), 1)\n",
    "    .when((col(\"prediction\") >= 10000) & (col(\"prediction\") < 16000), 2)\n",
    "    .when((col(\"prediction\") >= 16000) & (col(\"prediction\") < 21000), 3)\n",
    "    .otherwise(4)\n",
    ")\n",
    "\n",
    "# Ensure class_prediction is of DoubleType\n",
    "predictions = predictions.withColumn(\"class_prediction\", col(\"class_prediction\").cast(DoubleType()))\n",
    "\n",
    "# Evaluate Model\n",
    "evaluator_accuracy = MulticlassClassificationEvaluator(\n",
    "    labelCol=\"class_label\", predictionCol=\"class_prediction\", metricName=\"accuracy\"\n",
    ")\n",
    "\n",
    "accuracy = evaluator_accuracy.evaluate(predictions)\n",
    "print(f\"Linear Regression Model Accuracy: {accuracy}\")"
   ]
  }
 ],
 "metadata": {
  "kernelspec": {
   "display_name": "venv",
   "language": "python",
   "name": "python3"
  },
  "language_info": {
   "codemirror_mode": {
    "name": "ipython",
    "version": 3
   },
   "file_extension": ".py",
   "mimetype": "text/x-python",
   "name": "python",
   "nbconvert_exporter": "python",
   "pygments_lexer": "ipython3",
   "version": "3.12.0"
  }
 },
 "nbformat": 4,
 "nbformat_minor": 5
}
